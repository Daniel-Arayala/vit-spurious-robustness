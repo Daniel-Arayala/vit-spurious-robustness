{
 "cells": [
  {
   "cell_type": "markdown",
   "id": "51eb83aa-0661-48c8-b75c-0345f9b71c4a",
   "metadata": {},
   "source": [
    "# Imports"
   ]
  },
  {
   "cell_type": "code",
   "execution_count": 9,
   "id": "dc0c1238-a2bd-48d4-b085-23a518c81adf",
   "metadata": {},
   "outputs": [],
   "source": [
    "import os \n",
    "import pandas as pd\n",
    "import numpy as np\n",
    "from glob import glob\n",
    "from tqdm.notebook import tqdm\n",
    "import shutil"
   ]
  },
  {
   "cell_type": "markdown",
   "id": "22361b41-76ac-4d33-ac57-c9b8c24fbf1c",
   "metadata": {},
   "source": [
    "<br>"
   ]
  },
  {
   "cell_type": "markdown",
   "id": "e88aaee1-2b97-4f74-98ce-0af809a17468",
   "metadata": {},
   "source": [
    "<br>"
   ]
  },
  {
   "cell_type": "markdown",
   "id": "dcc33a6b-4215-455e-a6f7-c37cb107ce3c",
   "metadata": {},
   "source": [
    "# Common Functions"
   ]
  },
  {
   "cell_type": "code",
   "execution_count": 2,
   "id": "268d5b1a-cbaf-4b2f-8121-43a92b9edc3f",
   "metadata": {},
   "outputs": [],
   "source": [
    "def detect_image_extension(image_folder):\n",
    "    IMG_EXTENSIONS = ('.jpg', '.jpeg', '.png', '.bmp')\n",
    "    image_paths = os.listdir(image_folder)\n",
    "    assert len(image_paths), 'The images folder is empty! Please correct the folder path.'\n",
    "    extension = os.path.splitext(image_paths[0])[-1]\n",
    "    assert extension in IMG_EXTENSIONS, 'The images folder must only contain images files with consistent format.'\n",
    "    return extension"
   ]
  },
  {
   "cell_type": "markdown",
   "id": "d95cdc00-0744-4bd4-a93b-33e8befdab99",
   "metadata": {},
   "source": [
    "<br>"
   ]
  },
  {
   "cell_type": "markdown",
   "id": "d683671f-53ab-4cdf-8a8b-f719dee7cdc0",
   "metadata": {},
   "source": [
    "# Definitions"
   ]
  },
  {
   "cell_type": "code",
   "execution_count": 3,
   "id": "0d63274a-a2af-4e1a-b2be-edde2f691735",
   "metadata": {},
   "outputs": [],
   "source": [
    "# Path to image folder\n",
    "IMG_FOLDER = '../datasets/reduced_eyepacs_resized_cropped/'\n",
    "# Path to the file containing the image labels\n",
    "IMG_LABELS_FILE = '../datasets/reduced_eyepacs_resized_cropped/trainLabels_cropped.csv'\n",
    "IMAGE_EXT = detect_image_extension(IMG_FOLDER)\n",
    "SEED = 100"
   ]
  },
  {
   "cell_type": "markdown",
   "id": "d1dbb339-e13b-4be0-a90f-6ce68078c357",
   "metadata": {},
   "source": [
    "<br>"
   ]
  },
  {
   "cell_type": "markdown",
   "id": "b78d3725-b762-4188-8e2b-8405c658fec7",
   "metadata": {},
   "source": [
    "# Severity-level Folder Structure"
   ]
  },
  {
   "cell_type": "code",
   "execution_count": 11,
   "id": "e7b83fb6-77ba-4385-90d4-928faea51182",
   "metadata": {},
   "outputs": [],
   "source": [
    "# Reading the labels data\n",
    "df_labels = pd.read_csv(IMG_LABELS_FILE)\n",
    "df_labels = df_labels[['image', 'level']]"
   ]
  },
  {
   "cell_type": "code",
   "execution_count": 12,
   "id": "ada67dfd-cd8c-40ea-89d6-ae1da7e38c15",
   "metadata": {},
   "outputs": [],
   "source": [
    "# The image info will gather the useful information for splitting\n",
    "df_img_info = df_labels"
   ]
  },
  {
   "cell_type": "code",
   "execution_count": 13,
   "id": "ef57d04d-0ac0-43f0-bf80-741ae44f688f",
   "metadata": {},
   "outputs": [],
   "source": [
    "df_img_info['image'] = df_img_info['image'].transform(\n",
    "    lambda file_name: os.path.join(IMG_FOLDER, file_name + IMAGE_EXT))"
   ]
  },
  {
   "cell_type": "code",
   "execution_count": 20,
   "id": "0e826623-4989-4aca-8cda-9bf9952c6113",
   "metadata": {},
   "outputs": [
    {
     "data": {
      "application/vnd.jupyter.widget-view+json": {
       "model_id": "05f333cf99bf48ce9672ef5dbc0c2126",
       "version_major": 2,
       "version_minor": 0
      },
      "text/plain": [
       "Processing Severity 0:   0%|          | 0/25802 [00:00<?, ?it/s]"
      ]
     },
     "metadata": {},
     "output_type": "display_data"
    },
    {
     "data": {
      "application/vnd.jupyter.widget-view+json": {
       "model_id": "107c1a8ed23c459ea50e8781d3c014a4",
       "version_major": 2,
       "version_minor": 0
      },
      "text/plain": [
       "Processing Severity 1:   0%|          | 0/2438 [00:00<?, ?it/s]"
      ]
     },
     "metadata": {},
     "output_type": "display_data"
    },
    {
     "data": {
      "application/vnd.jupyter.widget-view+json": {
       "model_id": "73203cf713944edabd29e2764f3ddb3e",
       "version_major": 2,
       "version_minor": 0
      },
      "text/plain": [
       "Processing Severity 2:   0%|          | 0/5288 [00:00<?, ?it/s]"
      ]
     },
     "metadata": {},
     "output_type": "display_data"
    },
    {
     "data": {
      "application/vnd.jupyter.widget-view+json": {
       "model_id": "bb27d27ff3e347b5b07419134c89d24c",
       "version_major": 2,
       "version_minor": 0
      },
      "text/plain": [
       "Processing Severity 3:   0%|          | 0/872 [00:00<?, ?it/s]"
      ]
     },
     "metadata": {},
     "output_type": "display_data"
    },
    {
     "data": {
      "application/vnd.jupyter.widget-view+json": {
       "model_id": "8daa9d293c894ea987c881dc8f8f9ee9",
       "version_major": 2,
       "version_minor": 0
      },
      "text/plain": [
       "Processing Severity 4:   0%|          | 0/708 [00:00<?, ?it/s]"
      ]
     },
     "metadata": {},
     "output_type": "display_data"
    }
   ],
   "source": [
    "for level, group in df_img_info.groupby('level'):\n",
    "    severity_level_path = os.path.join(IMG_FOLDER, str(level))\n",
    "    os.makedirs(severity_level_path, exist_ok=True)\n",
    "    for src_img_path in tqdm(group['image'].values, desc=f'Processing Severity {level}'):\n",
    "        shutil.move(src_img_path, severity_level_path)"
   ]
  },
  {
   "cell_type": "markdown",
   "id": "5a7e4391-dd51-407b-b3e1-49a40efb76fb",
   "metadata": {},
   "source": [
    "<br>"
   ]
  }
 ],
 "metadata": {
  "kernelspec": {
   "display_name": "Causal DR (tcc)",
   "language": "python",
   "name": "tcc"
  },
  "language_info": {
   "codemirror_mode": {
    "name": "ipython",
    "version": 3
   },
   "file_extension": ".py",
   "mimetype": "text/x-python",
   "name": "python",
   "nbconvert_exporter": "python",
   "pygments_lexer": "ipython3",
   "version": "3.9.13"
  }
 },
 "nbformat": 4,
 "nbformat_minor": 5
}
