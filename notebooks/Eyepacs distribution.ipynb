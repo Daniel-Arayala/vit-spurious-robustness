{
 "cells": [
  {
   "cell_type": "code",
   "execution_count": 1,
   "id": "ec2dacb2-43e0-4e80-b654-1b3a57a54b26",
   "metadata": {},
   "outputs": [],
   "source": [
    "import pandas as pd\n",
    "import seaborn as sns\n",
    "import matplotlib.pyplot as plt"
   ]
  },
  {
   "cell_type": "markdown",
   "id": "46ecd238-9044-4195-9618-9ac42a27df44",
   "metadata": {},
   "source": [
    "<br>"
   ]
  },
  {
   "cell_type": "code",
   "execution_count": 2,
   "id": "55400707-8e56-455a-982e-3c5f469e3004",
   "metadata": {},
   "outputs": [],
   "source": [
    "df = pd.read_csv('../datasets/reduced_eyepacs_resized_cropped/metadata.csv')"
   ]
  },
  {
   "cell_type": "code",
   "execution_count": 3,
   "id": "937b9e0e-138d-49c7-acb0-8502442b60e1",
   "metadata": {},
   "outputs": [
    {
     "data": {
      "text/plain": "   patient_id   side            image  level level_group      groups  split\n0          10   left   0/10_left.jpeg      0        nref   left_nref    val\n1          10  right  0/10_right.jpeg      0        nref  right_nref   test\n2          13   left   0/13_left.jpeg      0        nref   left_nref  train\n3          13  right  0/13_right.jpeg      0        nref  right_nref   test\n4          15   left   1/15_left.jpeg      1        nref   left_nref   test",
      "text/html": "<div>\n<style scoped>\n    .dataframe tbody tr th:only-of-type {\n        vertical-align: middle;\n    }\n\n    .dataframe tbody tr th {\n        vertical-align: top;\n    }\n\n    .dataframe thead th {\n        text-align: right;\n    }\n</style>\n<table border=\"1\" class=\"dataframe\">\n  <thead>\n    <tr style=\"text-align: right;\">\n      <th></th>\n      <th>patient_id</th>\n      <th>side</th>\n      <th>image</th>\n      <th>level</th>\n      <th>level_group</th>\n      <th>groups</th>\n      <th>split</th>\n    </tr>\n  </thead>\n  <tbody>\n    <tr>\n      <th>0</th>\n      <td>10</td>\n      <td>left</td>\n      <td>0/10_left.jpeg</td>\n      <td>0</td>\n      <td>nref</td>\n      <td>left_nref</td>\n      <td>val</td>\n    </tr>\n    <tr>\n      <th>1</th>\n      <td>10</td>\n      <td>right</td>\n      <td>0/10_right.jpeg</td>\n      <td>0</td>\n      <td>nref</td>\n      <td>right_nref</td>\n      <td>test</td>\n    </tr>\n    <tr>\n      <th>2</th>\n      <td>13</td>\n      <td>left</td>\n      <td>0/13_left.jpeg</td>\n      <td>0</td>\n      <td>nref</td>\n      <td>left_nref</td>\n      <td>train</td>\n    </tr>\n    <tr>\n      <th>3</th>\n      <td>13</td>\n      <td>right</td>\n      <td>0/13_right.jpeg</td>\n      <td>0</td>\n      <td>nref</td>\n      <td>right_nref</td>\n      <td>test</td>\n    </tr>\n    <tr>\n      <th>4</th>\n      <td>15</td>\n      <td>left</td>\n      <td>1/15_left.jpeg</td>\n      <td>1</td>\n      <td>nref</td>\n      <td>left_nref</td>\n      <td>test</td>\n    </tr>\n  </tbody>\n</table>\n</div>"
     },
     "execution_count": 3,
     "metadata": {},
     "output_type": "execute_result"
    }
   ],
   "source": [
    "df.head()"
   ]
  },
  {
   "cell_type": "code",
   "execution_count": 4,
   "id": "be52b31d-d826-4976-b308-7e46d56a73e1",
   "metadata": {},
   "outputs": [],
   "source": [
    "label_count = df['level'].value_counts()"
   ]
  },
  {
   "cell_type": "code",
   "execution_count": 5,
   "outputs": [
    {
     "data": {
      "text/plain": "0    25802\n2     5288\n1     2438\n3      872\n4      708\nName: level, dtype: int64"
     },
     "execution_count": 5,
     "metadata": {},
     "output_type": "execute_result"
    }
   ],
   "source": [
    "label_count"
   ],
   "metadata": {
    "collapsed": false
   }
  },
  {
   "cell_type": "code",
   "execution_count": 30,
   "id": "b74cfb2f-cfb3-4485-b0cc-da1ba25e052a",
   "metadata": {},
   "outputs": [
    {
     "data": {
      "text/plain": [
       "0"
      ]
     },
     "execution_count": 30,
     "metadata": {},
     "output_type": "execute_result"
    }
   ],
   "source": [
    "bar.get_x()"
   ]
  },
  {
   "cell_type": "code",
   "execution_count": null,
   "id": "62ca2970-7b6a-4fe7-a125-82d12b143559",
   "metadata": {},
   "outputs": [],
   "source": [
    "plots.annotate(format(bar.get_height(), '.2f'),\n",
    "                   (bar.get_x() + bar.get_width() / 2,\n",
    "                    bar.get_height()), ha='center', va='center',\n",
    "                   size=15, xytext=(0, 8),\n",
    "                   textcoords='offset points')"
   ]
  },
  {
   "cell_type": "code",
   "execution_count": 39,
   "id": "3f472a76-d1ff-4d68-b7a4-735fb6a96946",
   "metadata": {},
   "outputs": [
    {
     "data": {
      "image/png": "[encoded data removed]",
      "text/plain": [
       "<Figure size 640x480 with 1 Axes>"
      ]
     },
     "metadata": {},
     "output_type": "display_data"
    }
   ],
   "source": [
    "countplot = sns.countplot(y=df['level'], order=label_count.index)\n",
    "plt.title('Contagem de imagens para cada severidade')\n",
    "plt.xlabel('Número de amostras')\n",
    "plt.ylabel('Severidade')\n",
    "plt.show()"
   ]
  },
  {
   "cell_type": "code",
   "execution_count": null,
   "id": "9fb3e3d8-5f95-4863-9d1a-33d67208b149",
   "metadata": {},
   "outputs": [],
   "source": []
  }
 ],
 "metadata": {
  "kernelspec": {
   "display_name": "ViT Robust (vit-robust)",
   "language": "python",
   "name": "vit-robust"
  },
  "language_info": {
   "codemirror_mode": {
    "name": "ipython",
    "version": 3
   },
   "file_extension": ".py",
   "mimetype": "text/x-python",
   "name": "python",
   "nbconvert_exporter": "python",
   "pygments_lexer": "ipython3",
   "version": "3.9.13"
  }
 },
 "nbformat": 4,
 "nbformat_minor": 5
}
