{
 "cells": [
  {
   "cell_type": "code",
   "execution_count": 93,
   "id": "47625ae5-d5bb-4b1c-85c6-fbcccda657c1",
   "metadata": {},
   "outputs": [],
   "source": [
    "import pandas as pd\n",
    "import numpy as np"
   ]
  },
  {
   "cell_type": "code",
   "execution_count": null,
   "id": "622a47f3-d6f3-4e32-800f-c53c6dc3c99d",
   "metadata": {},
   "outputs": [],
   "source": [
    "pd.read_csv('../datasets/reduced_eyepacs_resized_cropped')"
   ]
  },
  {
   "cell_type": "code",
   "execution_count": 59,
   "id": "6b93c2fa-ce79-411b-906a-c7fd258590e5",
   "metadata": {},
   "outputs": [],
   "source": [
    "Arguments = namedtuple(\n",
    "    'Arguments', \n",
    "    ['model_arch', 'aug', \n",
    "     'balance_classes',\n",
    "     'remove_crop_resize', \n",
    "     'dataset',\n",
    "     'num_workers',\n",
    "     'img_size',\n",
    "     'seed',\n",
    "     'n_gpu'])"
   ]
  },
  {
   "cell_type": "code",
   "execution_count": 60,
   "id": "a127c5a8-726a-480d-b5aa-2341dab06a4f",
   "metadata": {},
   "outputs": [],
   "source": [
    "args = Arguments(\n",
    "    model_arch='ViT', \n",
    "    aug=False, \n",
    "    balance_classes=True,\n",
    "    remove_crop_resize=False, \n",
    "    dataset='eyepacs',\n",
    "    num_workers=2,\n",
    "    img_size=256,\n",
    "    seed=100,\n",
    "    n_gpu=1)"
   ]
  },
  {
   "cell_type": "code",
   "execution_count": 61,
   "id": "fa96491b-e09a-4828-a0d0-0001b7a1bc25",
   "metadata": {},
   "outputs": [],
   "source": [
    "set_seed(args)"
   ]
  },
  {
   "cell_type": "code",
   "execution_count": 62,
   "id": "7f9786ce-1f2d-417b-a908-21535ea5d271",
   "metadata": {},
   "outputs": [],
   "source": [
    "transform_train_steps = [\n",
    "        transforms.RandomResizedCrop(\n",
    "            (args.img_size, args.img_size), scale=(0.05, 1.0)\n",
    "        ),\n",
    "        transforms.ToTensor()]\n",
    "\n",
    "transform_val_steps = [\n",
    "        transforms.Resize((args.img_size, args.img_size)),\n",
    "        transforms.ToTensor()]"
   ]
  },
  {
   "cell_type": "code",
   "execution_count": 63,
   "id": "a0d1e900-9778-4065-9387-18d61dcf35b1",
   "metadata": {},
   "outputs": [],
   "source": [
    "transform_train = transforms.Compose(transform_train_steps)\n",
    "transform_val = transforms.Compose(transform_val_steps)"
   ]
  },
  {
   "cell_type": "code",
   "execution_count": 64,
   "id": "a1f6724a-c7d1-4b98-9d8d-c9cb97b7c436",
   "metadata": {},
   "outputs": [],
   "source": [
    "train_set = get_eyepacs_dataset(\n",
    "    root_dir=\"../datasets/\",\n",
    "    dataset_name=\"reduced_eyepacs_resized_cropped\",\n",
    "    split=\"train\",\n",
    "    transform=transform_train)"
   ]
  },
  {
   "cell_type": "code",
   "execution_count": 65,
   "id": "42a2e5d6-3112-42b2-b4a8-99846c0f67ff",
   "metadata": {},
   "outputs": [],
   "source": [
    "weighted_sampler = _build_weighted_sampler(train_set, len(train_set))"
   ]
  },
  {
   "cell_type": "code",
   "execution_count": 66,
   "id": "b5d94a8e-9788-4f56-a5ae-4a7ec0ee19b7",
   "metadata": {},
   "outputs": [],
   "source": [
    "train_loader = DataLoader(\n",
    "    train_set,\n",
    "    sampler=weighted_sampler,\n",
    "    batch_size=16,\n",
    "    num_workers=2,\n",
    "    pin_memory=True\n",
    ")"
   ]
  },
  {
   "cell_type": "code",
   "execution_count": 79,
   "id": "3c05293f-767b-4c71-bc95-0614bd6f2c97",
   "metadata": {},
   "outputs": [],
   "source": [
    "label_counter = Counter()"
   ]
  },
  {
   "cell_type": "code",
   "execution_count": 84,
   "id": "c7d52c98-84c8-417c-81aa-4b96ee1585a0",
   "metadata": {},
   "outputs": [
    {
     "data": {
      "application/vnd.jupyter.widget-view+json": {
       "model_id": "47dd652c84414096b34a11f2cdf78bb3",
       "version_major": 2,
       "version_minor": 0
      },
      "text/plain": [
       "  0%|          | 0/983 [00:00<?, ?it/s]"
      ]
     },
     "metadata": {},
     "output_type": "display_data"
    }
   ],
   "source": [
    "for data in tqdm(train_loader):\n",
    "    labels = data[1].cpu().numpy()\n",
    "    label_counter.update(labels)"
   ]
  },
  {
   "cell_type": "code",
   "execution_count": 91,
   "id": "d9479b06-b7b8-4fce-8f42-cb3621563a88",
   "metadata": {},
   "outputs": [
    {
     "data": {
      "text/plain": [
       "15732"
      ]
     },
     "execution_count": 91,
     "metadata": {},
     "output_type": "execute_result"
    }
   ],
   "source": [
    "sum(label_counter.values())"
   ]
  },
  {
   "cell_type": "code",
   "execution_count": 92,
   "id": "a459338f-1992-4fb7-87b1-d50eeca6c787",
   "metadata": {},
   "outputs": [
    {
     "data": {
      "text/plain": [
       "Counter({2: 1938, 0: 5607, 1: 7178, 4: 1009})"
      ]
     },
     "execution_count": 92,
     "metadata": {},
     "output_type": "execute_result"
    }
   ],
   "source": [
    "label_counter"
   ]
  },
  {
   "cell_type": "code",
   "execution_count": null,
   "id": "54931f8f-fed5-451e-b504-f0dd12b1c9ea",
   "metadata": {},
   "outputs": [],
   "source": []
  }
 ],
 "metadata": {
  "kernelspec": {
   "display_name": "ViT Robust (vit-robust)",
   "language": "python",
   "name": "vit-robust"
  },
  "language_info": {
   "codemirror_mode": {
    "name": "ipython",
    "version": 3
   },
   "file_extension": ".py",
   "mimetype": "text/x-python",
   "name": "python",
   "nbconvert_exporter": "python",
   "pygments_lexer": "ipython3",
   "version": "3.9.13"
  }
 },
 "nbformat": 4,
 "nbformat_minor": 5
}
