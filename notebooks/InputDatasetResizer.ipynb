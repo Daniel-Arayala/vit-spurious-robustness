{
 "cells": [
  {
   "cell_type": "markdown",
   "id": "ce9b3631-1bfd-4dd2-91cb-28855e6ebe26",
   "metadata": {},
   "source": [
    "# Imports"
   ]
  },
  {
   "cell_type": "code",
   "execution_count": 35,
   "id": "3768e68a-8cce-4285-b970-4091da2b00d1",
   "metadata": {},
   "outputs": [],
   "source": [
    "from glob import glob\n",
    "import os\n",
    "import numpy as np\n",
    "from tqdm.notebook import tqdm\n",
    "import math\n",
    "from PIL import Image \n",
    "from collections import namedtuple"
   ]
  },
  {
   "cell_type": "markdown",
   "id": "ecfb6447-385b-4205-bbb0-cb5855cc1cd5",
   "metadata": {},
   "source": [
    "<br>"
   ]
  },
  {
   "cell_type": "markdown",
   "id": "e332ed6e-0b55-40c3-b8cd-296981f20deb",
   "metadata": {},
   "source": [
    "# Parameters"
   ]
  },
  {
   "cell_type": "code",
   "execution_count": 56,
   "id": "7096594d-45e8-4929-8c5b-5b7f98f45107",
   "metadata": {},
   "outputs": [],
   "source": [
    "DATASET_PATH = '../datasets/reduced_eyepacs_resized512_cropped/'"
   ]
  },
  {
   "cell_type": "code",
   "execution_count": 57,
   "id": "2eef3824-b529-4ccb-94bd-b6a052bf8e68",
   "metadata": {},
   "outputs": [],
   "source": [
    "NEW_MAX_SIZE = 512"
   ]
  },
  {
   "cell_type": "markdown",
   "id": "3495d6a0-1d32-4e91-9446-c459f7e1415b",
   "metadata": {},
   "source": [
    "<br>"
   ]
  },
  {
   "cell_type": "markdown",
   "id": "98affec6-e000-4933-99d9-ccbc85c5d4a3",
   "metadata": {},
   "source": [
    "# Resizing Images"
   ]
  },
  {
   "cell_type": "code",
   "execution_count": 48,
   "id": "e5a17236-de81-47dc-96e7-a2a0103838ae",
   "metadata": {},
   "outputs": [],
   "source": [
    "img_files = glob(os.path.join(DATASET_PATH, '**/*.jpeg'))"
   ]
  },
  {
   "cell_type": "code",
   "execution_count": 49,
   "id": "af24c65a-d525-4fe4-bd3d-c78d094a130f",
   "metadata": {},
   "outputs": [],
   "source": [
    "# Named tuple to help readability\n",
    "ImageDim = namedtuple('ImageDim', ['name', 'value'])"
   ]
  },
  {
   "cell_type": "code",
   "execution_count": 50,
   "id": "ff6f28bb-c285-464a-8037-60d7c14d4f28",
   "metadata": {
    "scrolled": true,
    "tags": []
   },
   "outputs": [
    {
     "data": {
      "application/vnd.jupyter.widget-view+json": {
       "model_id": "1b5f01d19c02401bb7b2f250c7002ddc",
       "version_major": 2,
       "version_minor": 0
      },
      "text/plain": [
       "Processing images:   0%|          | 0/35108 [00:00<?, ?it/s]"
      ]
     },
     "metadata": {},
     "output_type": "display_data"
    },
    {
     "name": "stdout",
     "output_type": "stream",
     "text": [
      "Adjusted image: ../datasets/reduced_eyepacs_resized512_cropped\\0\\10310_right.jpeg\n",
      "Adjusted image: ../datasets/reduced_eyepacs_resized512_cropped\\0\\10553_right.jpeg\n",
      "Adjusted image: ../datasets/reduced_eyepacs_resized512_cropped\\0\\11612_left.jpeg\n",
      "Adjusted image: ../datasets/reduced_eyepacs_resized512_cropped\\0\\11612_right.jpeg\n",
      "Adjusted image: ../datasets/reduced_eyepacs_resized512_cropped\\0\\12124_left.jpeg\n",
      "Adjusted image: ../datasets/reduced_eyepacs_resized512_cropped\\0\\12124_right.jpeg\n",
      "Adjusted image: ../datasets/reduced_eyepacs_resized512_cropped\\0\\12255_right.jpeg\n",
      "Adjusted image: ../datasets/reduced_eyepacs_resized512_cropped\\0\\13770_right.jpeg\n",
      "Adjusted image: ../datasets/reduced_eyepacs_resized512_cropped\\0\\13807_right.jpeg\n",
      "Adjusted image: ../datasets/reduced_eyepacs_resized512_cropped\\0\\1412_right.jpeg\n",
      "Adjusted image: ../datasets/reduced_eyepacs_resized512_cropped\\0\\14299_left.jpeg\n",
      "Adjusted image: ../datasets/reduced_eyepacs_resized512_cropped\\0\\14299_right.jpeg\n",
      "Adjusted image: ../datasets/reduced_eyepacs_resized512_cropped\\0\\14575_left.jpeg\n",
      "Adjusted image: ../datasets/reduced_eyepacs_resized512_cropped\\0\\16417_left.jpeg\n",
      "Adjusted image: ../datasets/reduced_eyepacs_resized512_cropped\\0\\16417_right.jpeg\n",
      "Adjusted image: ../datasets/reduced_eyepacs_resized512_cropped\\0\\17506_left.jpeg\n",
      "Adjusted image: ../datasets/reduced_eyepacs_resized512_cropped\\0\\17506_right.jpeg\n",
      "Adjusted image: ../datasets/reduced_eyepacs_resized512_cropped\\0\\18728_right.jpeg\n",
      "Adjusted image: ../datasets/reduced_eyepacs_resized512_cropped\\0\\19409_left.jpeg\n",
      "Adjusted image: ../datasets/reduced_eyepacs_resized512_cropped\\0\\19409_right.jpeg\n",
      "Adjusted image: ../datasets/reduced_eyepacs_resized512_cropped\\0\\19564_right.jpeg\n",
      "Adjusted image: ../datasets/reduced_eyepacs_resized512_cropped\\0\\19812_left.jpeg\n",
      "Adjusted image: ../datasets/reduced_eyepacs_resized512_cropped\\0\\21065_left.jpeg\n",
      "Adjusted image: ../datasets/reduced_eyepacs_resized512_cropped\\0\\21065_right.jpeg\n",
      "Adjusted image: ../datasets/reduced_eyepacs_resized512_cropped\\0\\21247_left.jpeg\n",
      "Adjusted image: ../datasets/reduced_eyepacs_resized512_cropped\\0\\21247_right.jpeg\n",
      "Adjusted image: ../datasets/reduced_eyepacs_resized512_cropped\\0\\21827_left.jpeg\n",
      "Adjusted image: ../datasets/reduced_eyepacs_resized512_cropped\\0\\21936_left.jpeg\n",
      "Adjusted image: ../datasets/reduced_eyepacs_resized512_cropped\\0\\21936_right.jpeg\n",
      "Adjusted image: ../datasets/reduced_eyepacs_resized512_cropped\\0\\22579_left.jpeg\n",
      "Adjusted image: ../datasets/reduced_eyepacs_resized512_cropped\\0\\23519_left.jpeg\n",
      "Adjusted image: ../datasets/reduced_eyepacs_resized512_cropped\\0\\23519_right.jpeg\n",
      "Adjusted image: ../datasets/reduced_eyepacs_resized512_cropped\\0\\24953_right.jpeg\n",
      "Adjusted image: ../datasets/reduced_eyepacs_resized512_cropped\\0\\25500_right.jpeg\n",
      "Adjusted image: ../datasets/reduced_eyepacs_resized512_cropped\\0\\25868_left.jpeg\n",
      "Adjusted image: ../datasets/reduced_eyepacs_resized512_cropped\\0\\25868_right.jpeg\n",
      "Adjusted image: ../datasets/reduced_eyepacs_resized512_cropped\\0\\28089_right.jpeg\n",
      "Adjusted image: ../datasets/reduced_eyepacs_resized512_cropped\\0\\28170_left.jpeg\n",
      "Adjusted image: ../datasets/reduced_eyepacs_resized512_cropped\\0\\28170_right.jpeg\n",
      "Adjusted image: ../datasets/reduced_eyepacs_resized512_cropped\\0\\29268_right.jpeg\n",
      "Adjusted image: ../datasets/reduced_eyepacs_resized512_cropped\\0\\29674_left.jpeg\n",
      "Adjusted image: ../datasets/reduced_eyepacs_resized512_cropped\\0\\29674_right.jpeg\n",
      "Adjusted image: ../datasets/reduced_eyepacs_resized512_cropped\\0\\31027_left.jpeg\n",
      "Adjusted image: ../datasets/reduced_eyepacs_resized512_cropped\\0\\31027_right.jpeg\n",
      "Adjusted image: ../datasets/reduced_eyepacs_resized512_cropped\\0\\31968_left.jpeg\n",
      "Adjusted image: ../datasets/reduced_eyepacs_resized512_cropped\\0\\31968_right.jpeg\n",
      "Adjusted image: ../datasets/reduced_eyepacs_resized512_cropped\\0\\32891_left.jpeg\n",
      "Adjusted image: ../datasets/reduced_eyepacs_resized512_cropped\\0\\32891_right.jpeg\n",
      "Adjusted image: ../datasets/reduced_eyepacs_resized512_cropped\\0\\32897_right.jpeg\n",
      "Adjusted image: ../datasets/reduced_eyepacs_resized512_cropped\\0\\32980_right.jpeg\n",
      "Adjusted image: ../datasets/reduced_eyepacs_resized512_cropped\\0\\34318_left.jpeg\n",
      "Adjusted image: ../datasets/reduced_eyepacs_resized512_cropped\\0\\34501_right.jpeg\n",
      "Adjusted image: ../datasets/reduced_eyepacs_resized512_cropped\\0\\35160_left.jpeg\n",
      "Adjusted image: ../datasets/reduced_eyepacs_resized512_cropped\\0\\3611_left.jpeg\n",
      "Adjusted image: ../datasets/reduced_eyepacs_resized512_cropped\\0\\38874_right.jpeg\n",
      "Adjusted image: ../datasets/reduced_eyepacs_resized512_cropped\\0\\39060_left.jpeg\n",
      "Adjusted image: ../datasets/reduced_eyepacs_resized512_cropped\\0\\40764_right.jpeg\n",
      "Adjusted image: ../datasets/reduced_eyepacs_resized512_cropped\\0\\41379_left.jpeg\n",
      "Adjusted image: ../datasets/reduced_eyepacs_resized512_cropped\\0\\41556_left.jpeg\n",
      "Adjusted image: ../datasets/reduced_eyepacs_resized512_cropped\\0\\41556_right.jpeg\n",
      "Adjusted image: ../datasets/reduced_eyepacs_resized512_cropped\\0\\42011_left.jpeg\n",
      "Adjusted image: ../datasets/reduced_eyepacs_resized512_cropped\\0\\42011_right.jpeg\n",
      "Adjusted image: ../datasets/reduced_eyepacs_resized512_cropped\\0\\42148_right.jpeg\n",
      "Adjusted image: ../datasets/reduced_eyepacs_resized512_cropped\\0\\42405_left.jpeg\n",
      "Adjusted image: ../datasets/reduced_eyepacs_resized512_cropped\\0\\43172_left.jpeg\n",
      "Adjusted image: ../datasets/reduced_eyepacs_resized512_cropped\\0\\43189_left.jpeg\n",
      "Adjusted image: ../datasets/reduced_eyepacs_resized512_cropped\\0\\43189_right.jpeg\n",
      "Adjusted image: ../datasets/reduced_eyepacs_resized512_cropped\\0\\43298_right.jpeg\n",
      "Adjusted image: ../datasets/reduced_eyepacs_resized512_cropped\\0\\43470_right.jpeg\n",
      "Adjusted image: ../datasets/reduced_eyepacs_resized512_cropped\\0\\43514_right.jpeg\n",
      "Adjusted image: ../datasets/reduced_eyepacs_resized512_cropped\\0\\4818_left.jpeg\n",
      "Adjusted image: ../datasets/reduced_eyepacs_resized512_cropped\\0\\4818_right.jpeg\n",
      "Adjusted image: ../datasets/reduced_eyepacs_resized512_cropped\\0\\4972_right.jpeg\n",
      "Adjusted image: ../datasets/reduced_eyepacs_resized512_cropped\\0\\6420_left.jpeg\n",
      "Adjusted image: ../datasets/reduced_eyepacs_resized512_cropped\\0\\669_left.jpeg\n",
      "Adjusted image: ../datasets/reduced_eyepacs_resized512_cropped\\0\\6822_left.jpeg\n",
      "Adjusted image: ../datasets/reduced_eyepacs_resized512_cropped\\0\\6822_right.jpeg\n",
      "Adjusted image: ../datasets/reduced_eyepacs_resized512_cropped\\0\\7784_left.jpeg\n",
      "Adjusted image: ../datasets/reduced_eyepacs_resized512_cropped\\0\\7784_right.jpeg\n",
      "Adjusted image: ../datasets/reduced_eyepacs_resized512_cropped\\0\\8514_left.jpeg\n",
      "Adjusted image: ../datasets/reduced_eyepacs_resized512_cropped\\0\\8553_right.jpeg\n",
      "Adjusted image: ../datasets/reduced_eyepacs_resized512_cropped\\0\\9069_left.jpeg\n",
      "Adjusted image: ../datasets/reduced_eyepacs_resized512_cropped\\1\\13770_left.jpeg\n",
      "Adjusted image: ../datasets/reduced_eyepacs_resized512_cropped\\1\\20286_right.jpeg\n",
      "Adjusted image: ../datasets/reduced_eyepacs_resized512_cropped\\1\\30099_left.jpeg\n",
      "Adjusted image: ../datasets/reduced_eyepacs_resized512_cropped\\1\\30785_right.jpeg\n",
      "Adjusted image: ../datasets/reduced_eyepacs_resized512_cropped\\1\\38833_left.jpeg\n",
      "Adjusted image: ../datasets/reduced_eyepacs_resized512_cropped\\1\\41379_right.jpeg\n",
      "Adjusted image: ../datasets/reduced_eyepacs_resized512_cropped\\1\\6947_right.jpeg\n",
      "Adjusted image: ../datasets/reduced_eyepacs_resized512_cropped\\1\\8553_left.jpeg\n",
      "Adjusted image: ../datasets/reduced_eyepacs_resized512_cropped\\2\\11345_left.jpeg\n",
      "Adjusted image: ../datasets/reduced_eyepacs_resized512_cropped\\2\\11345_right.jpeg\n",
      "Adjusted image: ../datasets/reduced_eyepacs_resized512_cropped\\2\\1412_left.jpeg\n",
      "Adjusted image: ../datasets/reduced_eyepacs_resized512_cropped\\2\\21827_right.jpeg\n",
      "Adjusted image: ../datasets/reduced_eyepacs_resized512_cropped\\2\\22228_right.jpeg\n",
      "Adjusted image: ../datasets/reduced_eyepacs_resized512_cropped\\2\\22586_left.jpeg\n",
      "Adjusted image: ../datasets/reduced_eyepacs_resized512_cropped\\2\\22586_right.jpeg\n",
      "Adjusted image: ../datasets/reduced_eyepacs_resized512_cropped\\2\\24387_left.jpeg\n",
      "Adjusted image: ../datasets/reduced_eyepacs_resized512_cropped\\2\\26483_right.jpeg\n",
      "Adjusted image: ../datasets/reduced_eyepacs_resized512_cropped\\2\\28577_left.jpeg\n",
      "Adjusted image: ../datasets/reduced_eyepacs_resized512_cropped\\2\\28577_right.jpeg\n",
      "Adjusted image: ../datasets/reduced_eyepacs_resized512_cropped\\2\\29640_left.jpeg\n",
      "Adjusted image: ../datasets/reduced_eyepacs_resized512_cropped\\2\\29640_right.jpeg\n",
      "Adjusted image: ../datasets/reduced_eyepacs_resized512_cropped\\2\\30785_left.jpeg\n",
      "Adjusted image: ../datasets/reduced_eyepacs_resized512_cropped\\2\\3192_right.jpeg\n",
      "Adjusted image: ../datasets/reduced_eyepacs_resized512_cropped\\2\\33251_left.jpeg\n",
      "Adjusted image: ../datasets/reduced_eyepacs_resized512_cropped\\2\\33251_right.jpeg\n",
      "Adjusted image: ../datasets/reduced_eyepacs_resized512_cropped\\2\\37528_left.jpeg\n",
      "Adjusted image: ../datasets/reduced_eyepacs_resized512_cropped\\2\\37528_right.jpeg\n",
      "Adjusted image: ../datasets/reduced_eyepacs_resized512_cropped\\2\\40941_left.jpeg\n",
      "Adjusted image: ../datasets/reduced_eyepacs_resized512_cropped\\2\\40941_right.jpeg\n",
      "Adjusted image: ../datasets/reduced_eyepacs_resized512_cropped\\2\\427_left.jpeg\n",
      "Adjusted image: ../datasets/reduced_eyepacs_resized512_cropped\\2\\427_right.jpeg\n",
      "Adjusted image: ../datasets/reduced_eyepacs_resized512_cropped\\2\\5676_left.jpeg\n",
      "Adjusted image: ../datasets/reduced_eyepacs_resized512_cropped\\2\\5676_right.jpeg\n",
      "Adjusted image: ../datasets/reduced_eyepacs_resized512_cropped\\2\\8368_left.jpeg\n",
      "Adjusted image: ../datasets/reduced_eyepacs_resized512_cropped\\2\\8368_right.jpeg\n",
      "Adjusted image: ../datasets/reduced_eyepacs_resized512_cropped\\3\\18363_left.jpeg\n",
      "Adjusted image: ../datasets/reduced_eyepacs_resized512_cropped\\3\\18363_right.jpeg\n",
      "Adjusted image: ../datasets/reduced_eyepacs_resized512_cropped\\3\\29004_left.jpeg\n",
      "Adjusted image: ../datasets/reduced_eyepacs_resized512_cropped\\3\\29004_right.jpeg\n",
      "Adjusted image: ../datasets/reduced_eyepacs_resized512_cropped\\3\\3192_left.jpeg\n",
      "Adjusted image: ../datasets/reduced_eyepacs_resized512_cropped\\3\\32726_left.jpeg\n",
      "Adjusted image: ../datasets/reduced_eyepacs_resized512_cropped\\3\\32726_right.jpeg\n",
      "Adjusted image: ../datasets/reduced_eyepacs_resized512_cropped\\3\\3307_left.jpeg\n",
      "Adjusted image: ../datasets/reduced_eyepacs_resized512_cropped\\3\\3307_right.jpeg\n",
      "Adjusted image: ../datasets/reduced_eyepacs_resized512_cropped\\3\\34666_left.jpeg\n",
      "Adjusted image: ../datasets/reduced_eyepacs_resized512_cropped\\3\\34666_right.jpeg\n",
      "Adjusted image: ../datasets/reduced_eyepacs_resized512_cropped\\3\\35378_left.jpeg\n",
      "Adjusted image: ../datasets/reduced_eyepacs_resized512_cropped\\3\\35378_right.jpeg\n",
      "Adjusted image: ../datasets/reduced_eyepacs_resized512_cropped\\3\\37004_left.jpeg\n",
      "Adjusted image: ../datasets/reduced_eyepacs_resized512_cropped\\3\\37004_right.jpeg\n",
      "Adjusted image: ../datasets/reduced_eyepacs_resized512_cropped\\3\\42260_left.jpeg\n",
      "Adjusted image: ../datasets/reduced_eyepacs_resized512_cropped\\3\\5304_left.jpeg\n",
      "Adjusted image: ../datasets/reduced_eyepacs_resized512_cropped\\4\\11896_right.jpeg\n",
      "Adjusted image: ../datasets/reduced_eyepacs_resized512_cropped\\4\\22271_left.jpeg\n",
      "Adjusted image: ../datasets/reduced_eyepacs_resized512_cropped\\4\\3611_right.jpeg\n",
      "Adjusted image: ../datasets/reduced_eyepacs_resized512_cropped\\4\\405_left.jpeg\n",
      "Adjusted image: ../datasets/reduced_eyepacs_resized512_cropped\\4\\405_right.jpeg\n"
     ]
    }
   ],
   "source": [
    "for img_file in tqdm(img_files, desc='Processing images'):\n",
    "    img = Image.open(img_file)\n",
    "    width_dim = ImageDim(name='width', value=img.size[0])\n",
    "    height_dim = ImageDim(name='height', value=img.size[-1])\n",
    "    sorted_dims = sorted([width_dim, height_dim], key=lambda dim: dim.value)\n",
    "    low_dim, high_dim = tuple(sorted_dims)\n",
    "    if high_dim.value > NEW_MAX_SIZE:\n",
    "        print(f'Adjusted image: {img_file}')\n",
    "        ratio = low_dim.value / high_dim.value\n",
    "        if high_dim.name == 'width':\n",
    "            new_image = img.resize((NEW_MAX_SIZE, math.ceil(ratio*NEW_MAX_SIZE)))\n",
    "        else:\n",
    "            new_image = img.resize((math.ceil(ratio*NEW_MAX_SIZE), NEW_MAX_SIZE))\n",
    "    else:\n",
    "        new_image = img\n",
    "    new_image.save(img_file)"
   ]
  },
  {
   "cell_type": "code",
   "execution_count": 5,
   "id": "762aaf19-8abe-4c13-9197-9e72d187410d",
   "metadata": {},
   "outputs": [],
   "source": [
    "img_gen = (Image.open(img) for img in img_files)"
   ]
  }
 ],
 "metadata": {
  "kernelspec": {
   "display_name": "Causal DR (tcc)",
   "language": "python",
   "name": "tcc"
  },
  "language_info": {
   "codemirror_mode": {
    "name": "ipython",
    "version": 3
   },
   "file_extension": ".py",
   "mimetype": "text/x-python",
   "name": "python",
   "nbconvert_exporter": "python",
   "pygments_lexer": "ipython3",
   "version": "3.9.13"
  }
 },
 "nbformat": 4,
 "nbformat_minor": 5
}
