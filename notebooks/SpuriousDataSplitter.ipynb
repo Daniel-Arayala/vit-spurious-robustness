{
 "cells": [
  {
   "cell_type": "markdown",
   "id": "51eb83aa-0661-48c8-b75c-0345f9b71c4a",
   "metadata": {},
   "source": [
    "# Imports"
   ]
  },
  {
   "cell_type": "code",
   "execution_count": 81,
   "id": "dc0c1238-a2bd-48d4-b085-23a518c81adf",
   "metadata": {},
   "outputs": [],
   "source": [
    "import os \n",
    "import pandas as pd\n",
    "import numpy as np\n",
    "from glob import glob\n",
    "from tqdm.notebook import tqdm\n",
    "from sklearn.model_selection import train_test_split\n",
    "from pprint import pprint\n",
    "import seaborn as sns\n",
    "import matplotlib.pyplot as plt\n",
    "from collections import defaultdict"
   ]
  },
  {
   "cell_type": "markdown",
   "id": "22361b41-76ac-4d33-ac57-c9b8c24fbf1c",
   "metadata": {},
   "source": [
    "<br>"
   ]
  },
  {
   "cell_type": "markdown",
   "id": "96d67574-17af-4ba3-aafc-e2b95aa55fd1",
   "metadata": {},
   "source": [
    "# Explanation"
   ]
  },
  {
   "cell_type": "markdown",
   "id": "010b3cee-3c16-47e0-8874-1e6ff05b0f56",
   "metadata": {},
   "source": [
    "This data splitter will explore the spurious correlation that might arise between right and left eye images for a certain severity level. If the model was trained only on right-eye images with non-referrable severity levels (0 and 1) images and tested on right-eye images with referrable severity levels (2 to 4), there are two possible outcomes. If the model learns the spurious relationship between the side of the eye and the severity it will classify the test samples with lower severity scores. If the model is robust enough to the spurious correlation it will most probably classify the test images correctly regardless of the eye-side bias introduced in the data split."
   ]
  },
  {
   "cell_type": "markdown",
   "id": "e88aaee1-2b97-4f74-98ce-0af809a17468",
   "metadata": {},
   "source": [
    "<br>"
   ]
  },
  {
   "cell_type": "markdown",
   "id": "dcc33a6b-4215-455e-a6f7-c37cb107ce3c",
   "metadata": {},
   "source": [
    "# Common Functions"
   ]
  },
  {
   "cell_type": "code",
   "execution_count": 82,
   "id": "268d5b1a-cbaf-4b2f-8121-43a92b9edc3f",
   "metadata": {},
   "outputs": [],
   "source": [
    "def detect_image_extension(image_folder):\n",
    "    IMG_EXTENSIONS = ('.jpg', '.jpeg', '.png', '.bmp')\n",
    "    image_paths = glob(f'{image_folder}/**/**')\n",
    "    assert len(image_paths), 'The images folder is empty! Please correct the folder path.'\n",
    "    extension = os.path.splitext(image_paths[0])[-1]\n",
    "    assert extension in IMG_EXTENSIONS, 'The images folder must only contain images files with consistent format.'\n",
    "    return extension"
   ]
  },
  {
   "cell_type": "markdown",
   "id": "d95cdc00-0744-4bd4-a93b-33e8befdab99",
   "metadata": {},
   "source": [
    "<br>"
   ]
  },
  {
   "cell_type": "markdown",
   "id": "d683671f-53ab-4cdf-8a8b-f719dee7cdc0",
   "metadata": {},
   "source": [
    "# Definitions"
   ]
  },
  {
   "cell_type": "code",
   "execution_count": 159,
   "id": "0d63274a-a2af-4e1a-b2be-edde2f691735",
   "metadata": {},
   "outputs": [],
   "source": [
    "# Path to image folder\n",
    "IMG_FOLDER = '../datasets/eyepacs/'\n",
    "# Path to the file containing the image labels\n",
    "IMG_LABELS_FILE = '../datasets/eyepacs/labels_filt.csv'\n",
    "IMAGE_EXT = detect_image_extension(IMG_FOLDER)\n",
    "SEED = 100"
   ]
  },
  {
   "cell_type": "code",
   "execution_count": 84,
   "id": "97c402f4-b431-44d8-b95a-dedbd5b2df9d",
   "metadata": {},
   "outputs": [],
   "source": [
    "def get_dataset_with_metadata(df):\n",
    "    df_img_info = df.copy()\n",
    "    # Separates the patient ID from the eye-side information\n",
    "    image_name_info = df_img_info['image'].str.split('_', expand=True)\n",
    "    image_name_info.columns = ['patient_id', 'side']\n",
    "    df_img_info = pd.concat([image_name_info, df_img_info], axis=1)\n",
    "    df_img_info['image']  = df_img_info['level'].astype('str') + '/' + df_img_info['image'] + IMAGE_EXT\n",
    "    # Referrable and non-referrable levels\n",
    "    df_img_info['level_group'] = df_img_info['level'].map(lambda val: 'nref' if val <= 1 else 'ref')\n",
    "    df_img_info['groups'] = df_img_info['side'] + '_' + df_img_info['level_group']\n",
    "    return df_img_info"
   ]
  },
  {
   "cell_type": "markdown",
   "id": "d1dbb339-e13b-4be0-a90f-6ce68078c357",
   "metadata": {},
   "source": [
    "<br>"
   ]
  },
  {
   "cell_type": "markdown",
   "id": "b78d3725-b762-4188-8e2b-8405c658fec7",
   "metadata": {},
   "source": [
    "# Splitting data based on eye side, severity and frequency"
   ]
  },
  {
   "cell_type": "markdown",
   "id": "37959ccb-522b-4d27-a1de-d512eeb7ac82",
   "metadata": {},
   "source": [
    "## Preparing useful informationm"
   ]
  },
  {
   "cell_type": "code",
   "execution_count": 160,
   "id": "d90353b4-ce25-4c54-845d-9f82805abdbf",
   "metadata": {},
   "outputs": [],
   "source": [
    "# Reading the labels data\n",
    "df_labels = pd.read_csv(IMG_LABELS_FILE)\n",
    "df_labels = df_labels[['image', 'level']]\n",
    "# The image info will gather the useful information for splitting\n",
    "df_img_info = get_dataset_with_metadata(df_labels)\n"
   ]
  },
  {
   "cell_type": "code",
   "execution_count": 161,
   "id": "7831a892-bc19-469f-9d31-3c8d40bf5cdd",
   "metadata": {},
   "outputs": [
    {
     "data": {
      "text/html": [
       "<div>\n",
       "<style scoped>\n",
       "    .dataframe tbody tr th:only-of-type {\n",
       "        vertical-align: middle;\n",
       "    }\n",
       "\n",
       "    .dataframe tbody tr th {\n",
       "        vertical-align: top;\n",
       "    }\n",
       "\n",
       "    .dataframe thead th {\n",
       "        text-align: right;\n",
       "    }\n",
       "</style>\n",
       "<table border=\"1\" class=\"dataframe\">\n",
       "  <thead>\n",
       "    <tr style=\"text-align: right;\">\n",
       "      <th></th>\n",
       "      <th>patient_id</th>\n",
       "      <th>side</th>\n",
       "      <th>image</th>\n",
       "      <th>level</th>\n",
       "      <th>level_group</th>\n",
       "      <th>groups</th>\n",
       "    </tr>\n",
       "  </thead>\n",
       "  <tbody>\n",
       "    <tr>\n",
       "      <th>0</th>\n",
       "      <td>1</td>\n",
       "      <td>left</td>\n",
       "      <td>0/1_left.jpeg</td>\n",
       "      <td>0</td>\n",
       "      <td>nref</td>\n",
       "      <td>left_nref</td>\n",
       "    </tr>\n",
       "    <tr>\n",
       "      <th>1</th>\n",
       "      <td>1</td>\n",
       "      <td>right</td>\n",
       "      <td>0/1_right.jpeg</td>\n",
       "      <td>0</td>\n",
       "      <td>nref</td>\n",
       "      <td>right_nref</td>\n",
       "    </tr>\n",
       "    <tr>\n",
       "      <th>2</th>\n",
       "      <td>2</td>\n",
       "      <td>left</td>\n",
       "      <td>0/2_left.jpeg</td>\n",
       "      <td>0</td>\n",
       "      <td>nref</td>\n",
       "      <td>left_nref</td>\n",
       "    </tr>\n",
       "    <tr>\n",
       "      <th>3</th>\n",
       "      <td>2</td>\n",
       "      <td>right</td>\n",
       "      <td>0/2_right.jpeg</td>\n",
       "      <td>0</td>\n",
       "      <td>nref</td>\n",
       "      <td>right_nref</td>\n",
       "    </tr>\n",
       "    <tr>\n",
       "      <th>4</th>\n",
       "      <td>3</td>\n",
       "      <td>left</td>\n",
       "      <td>2/3_left.jpeg</td>\n",
       "      <td>2</td>\n",
       "      <td>ref</td>\n",
       "      <td>left_ref</td>\n",
       "    </tr>\n",
       "    <tr>\n",
       "      <th>...</th>\n",
       "      <td>...</td>\n",
       "      <td>...</td>\n",
       "      <td>...</td>\n",
       "      <td>...</td>\n",
       "      <td>...</td>\n",
       "      <td>...</td>\n",
       "    </tr>\n",
       "    <tr>\n",
       "      <th>86917</th>\n",
       "      <td>44349</td>\n",
       "      <td>right</td>\n",
       "      <td>1/44349_right.jpeg</td>\n",
       "      <td>1</td>\n",
       "      <td>nref</td>\n",
       "      <td>right_nref</td>\n",
       "    </tr>\n",
       "    <tr>\n",
       "      <th>86918</th>\n",
       "      <td>44350</td>\n",
       "      <td>left</td>\n",
       "      <td>0/44350_left.jpeg</td>\n",
       "      <td>0</td>\n",
       "      <td>nref</td>\n",
       "      <td>left_nref</td>\n",
       "    </tr>\n",
       "    <tr>\n",
       "      <th>86919</th>\n",
       "      <td>44350</td>\n",
       "      <td>right</td>\n",
       "      <td>0/44350_right.jpeg</td>\n",
       "      <td>0</td>\n",
       "      <td>nref</td>\n",
       "      <td>right_nref</td>\n",
       "    </tr>\n",
       "    <tr>\n",
       "      <th>86920</th>\n",
       "      <td>44351</td>\n",
       "      <td>left</td>\n",
       "      <td>0/44351_left.jpeg</td>\n",
       "      <td>0</td>\n",
       "      <td>nref</td>\n",
       "      <td>left_nref</td>\n",
       "    </tr>\n",
       "    <tr>\n",
       "      <th>86921</th>\n",
       "      <td>44351</td>\n",
       "      <td>right</td>\n",
       "      <td>0/44351_right.jpeg</td>\n",
       "      <td>0</td>\n",
       "      <td>nref</td>\n",
       "      <td>right_nref</td>\n",
       "    </tr>\n",
       "  </tbody>\n",
       "</table>\n",
       "<p>86922 rows × 6 columns</p>\n",
       "</div>"
      ],
      "text/plain": [
       "      patient_id   side               image  level level_group      groups\n",
       "0              1   left       0/1_left.jpeg      0        nref   left_nref\n",
       "1              1  right      0/1_right.jpeg      0        nref  right_nref\n",
       "2              2   left       0/2_left.jpeg      0        nref   left_nref\n",
       "3              2  right      0/2_right.jpeg      0        nref  right_nref\n",
       "4              3   left       2/3_left.jpeg      2         ref    left_ref\n",
       "...          ...    ...                 ...    ...         ...         ...\n",
       "86917      44349  right  1/44349_right.jpeg      1        nref  right_nref\n",
       "86918      44350   left   0/44350_left.jpeg      0        nref   left_nref\n",
       "86919      44350  right  0/44350_right.jpeg      0        nref  right_nref\n",
       "86920      44351   left   0/44351_left.jpeg      0        nref   left_nref\n",
       "86921      44351  right  0/44351_right.jpeg      0        nref  right_nref\n",
       "\n",
       "[86922 rows x 6 columns]"
      ]
     },
     "execution_count": 161,
     "metadata": {},
     "output_type": "execute_result"
    }
   ],
   "source": [
    "df_img_info"
   ]
  },
  {
   "cell_type": "markdown",
   "id": "e2a1c159-bf3c-4187-a75d-154748427dba",
   "metadata": {},
   "source": [
    "# Handling Data Imbalance"
   ]
  },
  {
   "cell_type": "code",
   "execution_count": 162,
   "id": "168834ea-8457-42ef-97b5-069e0b8c8005",
   "metadata": {},
   "outputs": [],
   "source": [
    "label_count = df_img_info['level'].value_counts()"
   ]
  },
  {
   "cell_type": "code",
   "execution_count": 163,
   "id": "dfd59c40-4abb-423f-ab85-cdb84d1ddd0f",
   "metadata": {},
   "outputs": [
    {
     "data": {
      "image/png": "[encoded data removed]",
      "text/plain": [
       "<Figure size 640x480 with 1 Axes>"
      ]
     },
     "metadata": {},
     "output_type": "display_data"
    }
   ],
   "source": [
    "#fig, axes = plt.subplots(nrows=1, ncols=2)\n",
    "plt.figure()\n",
    "countplot = sns.countplot(y=df_img_info['level'], order=label_count.index)\n",
    "countplot.bar_label(countplot.containers[0], padding=2)\n",
    "plt.title('Severity Level Count')\n",
    "plt.xlabel('Number of Samples')\n",
    "plt.xlim(0, label_count.iloc[0] + 15e3)\n",
    "plt.ylabel('Severity')\n",
    "plt.show()"
   ]
  },
  {
   "cell_type": "markdown",
   "id": "560c65f4-dd86-404f-ade3-a30908f3739a",
   "metadata": {},
   "source": [
    "## Grouping by Order"
   ]
  },
  {
   "cell_type": "code",
   "execution_count": 164,
   "id": "0d259e31-cf76-4cdb-a3a6-5421562a2ffe",
   "metadata": {},
   "outputs": [],
   "source": [
    "# fifth biggest number of samples\n",
    "base_severity = 4"
   ]
  },
  {
   "cell_type": "code",
   "execution_count": 165,
   "id": "7e8b50a5-b185-4840-ad6e-75d0ffe731da",
   "metadata": {},
   "outputs": [],
   "source": [
    "order_counts = label_count.iloc[base_severity]"
   ]
  },
  {
   "cell_type": "code",
   "execution_count": 166,
   "id": "c7bd6f50-de5f-463a-bf05-2f7b7d767d54",
   "metadata": {},
   "outputs": [],
   "source": [
    "left_severity_count = len(df_img_info.query(f'(side == \"left\") and level == {base_severity}'))"
   ]
  },
  {
   "cell_type": "code",
   "execution_count": 167,
   "id": "aec57633-59e6-4667-9d81-58560851c9ae",
   "metadata": {},
   "outputs": [],
   "source": [
    "right_severity_count = len(df_img_info.query(f'(side == \"right\") and level == {base_severity}'))"
   ]
  },
  {
   "cell_type": "code",
   "execution_count": 168,
   "id": "fd34d236-497c-41c2-94b9-1816a5fe4843",
   "metadata": {},
   "outputs": [],
   "source": [
    "if left_severity_count <= right_severity_count:\n",
    "    num_samples_side = left_severity_count\n",
    "else:\n",
    "    num_samples_side = right_severity_count"
   ]
  },
  {
   "cell_type": "code",
   "execution_count": 169,
   "id": "be3d6a47-2db8-49ee-9161-49762fc74535",
   "metadata": {},
   "outputs": [],
   "source": [
    "df_img_info_balanced = df_img_info.groupby(['level', 'side']) \\\n",
    "                                  .sample(num_samples_side, \n",
    "                                          replace=False, random_state=100)"
   ]
  },
  {
   "cell_type": "markdown",
   "id": "b754e088-0e83-4155-8926-9667f9ae1050",
   "metadata": {},
   "source": [
    "## Second Highest"
   ]
  },
  {
   "cell_type": "code",
   "execution_count": 95,
   "id": "90e833f8-80a1-413d-a7d6-ae9a9c514889",
   "metadata": {},
   "outputs": [],
   "source": [
    "# Getting second highest class since there is a considerable imbalance\n",
    "# between class 0 and the other classes\n",
    "num_samples_second_highest = label_count.iloc[1].item()\n",
    "# Handling odd number (irregularity due to right and left eye of same individual with different DR severities)\n",
    "if num_samples_second_highest % 2 != 0:\n",
    "    num_samples_second_highest += 1"
   ]
  },
  {
   "cell_type": "code",
   "execution_count": 99,
   "id": "d718cc7d-5009-4359-a933-1a66ba3a041f",
   "metadata": {},
   "outputs": [
    {
     "data": {
      "text/plain": [
       "13154"
      ]
     },
     "execution_count": 99,
     "metadata": {},
     "output_type": "execute_result"
    }
   ],
   "source": [
    "num_samples_second_highest"
   ]
  },
  {
   "cell_type": "markdown",
   "id": "d1c9567a-cc71-416a-a5e7-36fdeba81c8f",
   "metadata": {},
   "source": [
    "Since the number of samples is fixed based on class 2, class 0 will be undersampled and classes 1,3, and 4 will be oversampled. The sampling will be done grouping by severity and eye side to make it more consistent and remove any bias previous to the spurious splitting situation."
   ]
  },
  {
   "cell_type": "code",
   "execution_count": 44,
   "id": "8de1d9a0-60e5-4b93-b0e3-8c39267492d0",
   "metadata": {},
   "outputs": [],
   "source": [
    "df_img_info_balanced = df_img_info.groupby(['level', 'side']) \\\n",
    "                                  .sample(num_samples_second_highest // 2, \n",
    "                                          replace=True, random_state=100)"
   ]
  },
  {
   "cell_type": "code",
   "execution_count": 45,
   "id": "671da373-85b4-4085-b887-c3bf109eee5f",
   "metadata": {},
   "outputs": [
    {
     "data": {
      "text/plain": [
       "0    5288\n",
       "1    5288\n",
       "2    5288\n",
       "3    5288\n",
       "4    5288\n",
       "Name: level, dtype: int64"
      ]
     },
     "execution_count": 45,
     "metadata": {},
     "output_type": "execute_result"
    }
   ],
   "source": [
    "balanced_label_count = df_img_info_balanced['level'].value_counts()\n",
    "balanced_label_count"
   ]
  },
  {
   "cell_type": "markdown",
   "id": "09eddd40-b7f1-4a26-8268-086d7eba9f9d",
   "metadata": {},
   "source": [
    "## Balanced Graph"
   ]
  },
  {
   "cell_type": "code",
   "execution_count": 171,
   "id": "e40fca56-78d0-4bbe-bd64-4ddf6627492a",
   "metadata": {},
   "outputs": [
    {
     "data": {
      "image/png": "[encoded data removed]",
      "text/plain": [
       "<Figure size 640x480 with 1 Axes>"
      ]
     },
     "metadata": {},
     "output_type": "display_data"
    }
   ],
   "source": [
    "#plt.figure(figsize=(8,6))\n",
    "sns.countplot(data=df_img_info_balanced, x='level', hue='side')\n",
    "plt.title('Distribuição após Balanceamento de Classes')\n",
    "plt.xlabel('Número de Amostras')\n",
    "plt.legend(loc='lower right', labels=['Olho Esquerdo', 'Olho Direito'])\n",
    "plt.ylabel('Severidade')\n",
    "plt.show()"
   ]
  },
  {
   "cell_type": "code",
   "execution_count": 145,
   "id": "53934dbd-0938-4bbe-88d7-319cb7df74c5",
   "metadata": {},
   "outputs": [
    {
     "data": {
      "text/html": [
       "<div>\n",
       "<style scoped>\n",
       "    .dataframe tbody tr th:only-of-type {\n",
       "        vertical-align: middle;\n",
       "    }\n",
       "\n",
       "    .dataframe tbody tr th {\n",
       "        vertical-align: top;\n",
       "    }\n",
       "\n",
       "    .dataframe thead th {\n",
       "        text-align: right;\n",
       "    }\n",
       "</style>\n",
       "<table border=\"1\" class=\"dataframe\">\n",
       "  <thead>\n",
       "    <tr style=\"text-align: right;\">\n",
       "      <th></th>\n",
       "      <th>patient_id</th>\n",
       "      <th>side</th>\n",
       "      <th>image</th>\n",
       "      <th>level</th>\n",
       "      <th>level_group</th>\n",
       "      <th>groups</th>\n",
       "    </tr>\n",
       "  </thead>\n",
       "  <tbody>\n",
       "    <tr>\n",
       "      <th>70072</th>\n",
       "      <td>35037</td>\n",
       "      <td>left</td>\n",
       "      <td>0/35037_left.jpeg</td>\n",
       "      <td>0</td>\n",
       "      <td>nref</td>\n",
       "      <td>left_nref</td>\n",
       "    </tr>\n",
       "    <tr>\n",
       "      <th>39018</th>\n",
       "      <td>19510</td>\n",
       "      <td>left</td>\n",
       "      <td>0/19510_left.jpeg</td>\n",
       "      <td>0</td>\n",
       "      <td>nref</td>\n",
       "      <td>left_nref</td>\n",
       "    </tr>\n",
       "    <tr>\n",
       "      <th>5308</th>\n",
       "      <td>2655</td>\n",
       "      <td>left</td>\n",
       "      <td>0/2655_left.jpeg</td>\n",
       "      <td>0</td>\n",
       "      <td>nref</td>\n",
       "      <td>left_nref</td>\n",
       "    </tr>\n",
       "    <tr>\n",
       "      <th>52088</th>\n",
       "      <td>26045</td>\n",
       "      <td>left</td>\n",
       "      <td>0/26045_left.jpeg</td>\n",
       "      <td>0</td>\n",
       "      <td>nref</td>\n",
       "      <td>left_nref</td>\n",
       "    </tr>\n",
       "    <tr>\n",
       "      <th>33736</th>\n",
       "      <td>16869</td>\n",
       "      <td>left</td>\n",
       "      <td>0/16869_left.jpeg</td>\n",
       "      <td>0</td>\n",
       "      <td>nref</td>\n",
       "      <td>left_nref</td>\n",
       "    </tr>\n",
       "  </tbody>\n",
       "</table>\n",
       "</div>"
      ],
      "text/plain": [
       "      patient_id  side              image  level level_group     groups\n",
       "70072      35037  left  0/35037_left.jpeg      0        nref  left_nref\n",
       "39018      19510  left  0/19510_left.jpeg      0        nref  left_nref\n",
       "5308        2655  left   0/2655_left.jpeg      0        nref  left_nref\n",
       "52088      26045  left  0/26045_left.jpeg      0        nref  left_nref\n",
       "33736      16869  left  0/16869_left.jpeg      0        nref  left_nref"
      ]
     },
     "execution_count": 145,
     "metadata": {},
     "output_type": "execute_result"
    }
   ],
   "source": [
    "df_img_info_balanced.head()"
   ]
  },
  {
   "cell_type": "code",
   "execution_count": 48,
   "id": "50dd1ad0-51ca-435c-a660-d3c88aa2e744",
   "metadata": {},
   "outputs": [],
   "source": [
    "#df_img_info_balanced = df_img_info_balanced.sort_index(ignore_index=True)"
   ]
  },
  {
   "cell_type": "markdown",
   "id": "23af7cd1-d972-40c6-9a81-be52ea361105",
   "metadata": {},
   "source": [
    "## Splitting Images"
   ]
  },
  {
   "cell_type": "markdown",
   "id": "fa3ec527-f85c-4aa2-bbca-fa69f8537c01",
   "metadata": {},
   "source": [
    "First, we need to first define two important sets, the environment set $\\mathcal{E}$ and the labels set $\\mathcal{Y}$"
   ]
  },
  {
   "cell_type": "markdown",
   "id": "0d6b2d43-3986-4865-9646-96257f26405e",
   "metadata": {},
   "source": [
    "$$\n",
    "\\large \\mathcal{E} = \\{left,\\;right\\}\n",
    "$$"
   ]
  },
  {
   "cell_type": "markdown",
   "id": "dc7f3b7e-25c0-43eb-879d-5a5df963a5c0",
   "metadata": {},
   "source": [
    "$$\n",
    "\\large \\mathcal{Y} = \\{nref,\\; ref\\}\\; \n",
    "$$"
   ]
  },
  {
   "cell_type": "markdown",
   "id": "774f1fd7-c5e4-4d26-9d1f-d370c7d7392a",
   "metadata": {},
   "source": [
    "$where:$\n",
    "\\begin{equation*}    \n",
    "    \\begin{aligned}\n",
    "        &nref = \\{0,1\\}\\\\\n",
    "        &ref = \\{2,3,4\\}\n",
    "    \\end{aligned}\n",
    "\\end{equation*}"
   ]
  },
  {
   "cell_type": "markdown",
   "id": "41e1d365-b6f1-4ffe-9c74-2f62d537855a",
   "metadata": {},
   "source": [
    "# Parameters"
   ]
  },
  {
   "cell_type": "code",
   "execution_count": 172,
   "id": "5fb57f24-2695-4065-b629-986cbc80b0b6",
   "metadata": {},
   "outputs": [],
   "source": [
    "GROUPS = set(['left_nref', 'right_ref', 'left_ref', 'right_nref'])"
   ]
  },
  {
   "cell_type": "code",
   "execution_count": 173,
   "id": "9860dde4-252c-4769-a534-b1ed6f02e2dc",
   "metadata": {},
   "outputs": [],
   "source": [
    "#[Train, Val, Test]\n",
    "DATA_SPLIT = [0.8, 0.1, 0.1]"
   ]
  },
  {
   "cell_type": "code",
   "execution_count": 174,
   "id": "93c2be5f-282b-40e7-9ced-b2306d02e02b",
   "metadata": {},
   "outputs": [],
   "source": [
    "MAJORITY_TRAIN_GROUPS = {'left_nref', 'right_ref'}\n",
    "MINORITY_TRAIN_GROUPS = GROUPS.difference(MAJORITY_TRAIN_GROUPS)\n",
    "TRAIN_SIZE = 0.9\n",
    "MAJORITY_PROPORTION = 0.9\n",
    "VAL_PCT_FROM_TRAIN = 0.1"
   ]
  },
  {
   "cell_type": "markdown",
   "id": "fd02e3d6-e962-4365-b398-096c8bfa5263",
   "metadata": {},
   "source": [
    "# Balanced Baseline Splitting"
   ]
  },
  {
   "cell_type": "code",
   "execution_count": 175,
   "id": "ec61cf54-9348-4ea2-a925-445dc918afd9",
   "metadata": {},
   "outputs": [],
   "source": [
    "df_balanced_train_val, df_balanced_test = train_test_split(\n",
    "    df_img_info_balanced, \n",
    "    train_size=TRAIN_SIZE, \n",
    "    stratify=df_img_info_balanced['level'],\n",
    "    random_state=100)"
   ]
  },
  {
   "cell_type": "code",
   "execution_count": 176,
   "id": "6f7175e9-dae5-48da-b0ff-deac3cffc64a",
   "metadata": {},
   "outputs": [],
   "source": [
    "df_balanced_train, df_balanced_val = train_test_split(\n",
    "    df_balanced_train_val, \n",
    "    train_size=VAL_PCT_FROM_TRAIN, \n",
    "    stratify=df_balanced_train_val['level'],\n",
    "    random_state=100)"
   ]
  },
  {
   "cell_type": "code",
   "execution_count": 177,
   "id": "c8b9cecc-4791-48b6-8b1e-723c419c4340",
   "metadata": {},
   "outputs": [
    {
     "name": "stdout",
     "output_type": "stream",
     "text": [
      "Train:\n",
      "- Number of samples: 837\n",
      "- Percentage from Original: 0.09\n",
      "\n",
      "Validation:\n",
      "- Number of samples: 7542\n",
      "- Percentage from Original: 0.81\n",
      "\n",
      "Test:\n",
      "- Number of samples: 931\n",
      "- Percentage from Original: 0.1\n"
     ]
    }
   ],
   "source": [
    "print(('Train:'\n",
    "      f'\\n- Number of samples: {len(df_balanced_train)}'\n",
    "      f'\\n- Percentage from Original: {round(len(df_balanced_train)/len(df_img_info_balanced), 2)}'))\n",
    "print(('\\nValidation:'\n",
    "      f'\\n- Number of samples: {len(df_balanced_val)}'\n",
    "      f'\\n- Percentage from Original: {round(len(df_balanced_val)/len(df_img_info_balanced), 2)}'))\n",
    "print(('\\nTest:'\n",
    "      f'\\n- Number of samples: {len(df_balanced_test)}'\n",
    "      f'\\n- Percentage from Original: {round(len(df_balanced_test)/len(df_img_info_balanced), 2)}'))\n"
   ]
  },
  {
   "cell_type": "code",
   "execution_count": 178,
   "id": "3f7dea7d-fb66-4478-b19d-fb37151cd62a",
   "metadata": {},
   "outputs": [],
   "source": [
    "# Balanced training\n",
    "df_balanced_baseline = df_img_info_balanced"
   ]
  },
  {
   "cell_type": "code",
   "execution_count": 179,
   "id": "11264311-f4be-4030-9d44-b5e78692930c",
   "metadata": {},
   "outputs": [],
   "source": [
    "# Train\n",
    "df_balanced_baseline.loc[df_balanced_baseline.index.isin(df_balanced_train.index), 'split'] = 'train'\n",
    "# Validation\n",
    "df_balanced_baseline.loc[df_balanced_baseline.index.isin(df_balanced_val.index), 'split'] = 'val'\n",
    "# Test\n",
    "df_balanced_baseline.loc[df_balanced_baseline.index.isin(df_balanced_test.index), 'split'] = 'test'"
   ]
  },
  {
   "cell_type": "code",
   "execution_count": 180,
   "id": "890ce74c-6782-4fcb-aabd-c2bdb60421b2",
   "metadata": {},
   "outputs": [],
   "source": [
    "df_balanced_baseline.to_csv(os.path.join(IMG_FOLDER, 'metadata_balanced_train_baseline.csv'), index=False)"
   ]
  },
  {
   "cell_type": "markdown",
   "id": "cf5eb55e-4358-4eff-b25c-00abdffea262",
   "metadata": {},
   "source": [
    "# Balanced Splitting"
   ]
  },
  {
   "cell_type": "code",
   "execution_count": 196,
   "id": "3fcbbf8a-5ab6-4cdb-9b37-18192800d2e1",
   "metadata": {},
   "outputs": [],
   "source": [
    "num_samples_train = int(TRAIN_SIZE*len(df_img_info_balanced))\n",
    "num_samples_majority_train = int(num_samples_train*MAJORITY_PROPORTION)"
   ]
  },
  {
   "cell_type": "code",
   "execution_count": 205,
   "id": "64261333-f021-4085-8baa-20f291d55acf",
   "metadata": {},
   "outputs": [],
   "source": [
    "majority_group_pct = round(MAJORITY_PROPORTION / len(MAJORITY_TRAIN_GROUPS), 2)"
   ]
  },
  {
   "cell_type": "code",
   "execution_count": 206,
   "id": "1c43692c-4fd9-4633-9386-3b810d44798e",
   "metadata": {},
   "outputs": [],
   "source": [
    "minorty_group_pct = round((1 - MAJORITY_PROPORTION) / len(MINORITY_TRAIN_GROUPS), 2)"
   ]
  },
  {
   "cell_type": "code",
   "execution_count": 211,
   "id": "3b9b691a-26f8-4e73-8365-445f5028aa6a",
   "metadata": {},
   "outputs": [],
   "source": [
    "pct_distribution = [*([majority_group_pct]*len(MAJORITY_TRAIN_GROUPS)), *([minorty_group_pct]*len(MINORITY_TRAIN_GROUPS))]"
   ]
  },
  {
   "cell_type": "code",
   "execution_count": 216,
   "id": "211664b3-31db-4fad-9fa6-ad025b9333ff",
   "metadata": {},
   "outputs": [],
   "source": [
    "ordered_groups = [*list(MAJORITY_TRAIN_GROUPS), *list(MINORITY_TRAIN_GROUPS)]"
   ]
  },
  {
   "cell_type": "code",
   "execution_count": 221,
   "id": "55f3c985-ecd3-4400-b356-4f7fd3488934",
   "metadata": {},
   "outputs": [],
   "source": [
    "dist_train_samples = pd.DataFrame(zip(ordered_groups, pct_distribution), columns=['group', 'pct_samples'])"
   ]
  },
  {
   "cell_type": "code",
   "execution_count": 223,
   "id": "5774e37e-8fa4-48f2-8901-1671eb6d1b78",
   "metadata": {},
   "outputs": [],
   "source": [
    "dist_train_samples['n_samples'] = (dist_train_samples['pct_samples'] * num_samples_train).round()"
   ]
  },
  {
   "cell_type": "code",
   "execution_count": 261,
   "id": "e4a2db50-054c-4385-a991-ad722775713d",
   "metadata": {},
   "outputs": [],
   "source": [
    "# Get minimum count\n",
    "max_possible_group_val = df_img_info_balanced.groupby('groups')['side'].count().min()\n",
    "# Adding a 10% tolerance\n",
    "max_possible_group_val = round(max_possible_group_val*0.9)"
   ]
  },
  {
   "cell_type": "code",
   "execution_count": 262,
   "id": "f2a1f9be-d39d-4e8a-9c63-de28e4094bc9",
   "metadata": {},
   "outputs": [],
   "source": [
    "total_samples = int(max_possible_group_val / 0.45)"
   ]
  },
  {
   "cell_type": "code",
   "execution_count": 263,
   "id": "8cbbe5c1-5957-41d5-ab65-8b6e58ea9e40",
   "metadata": {},
   "outputs": [
    {
     "data": {
      "text/plain": [
       "10575"
      ]
     },
     "execution_count": 263,
     "metadata": {},
     "output_type": "execute_result"
    }
   ],
   "source": [
    "total_samples"
   ]
  },
  {
   "cell_type": "code",
   "execution_count": 264,
   "id": "56072d78-8a00-431e-a10d-b513ebf3e611",
   "metadata": {},
   "outputs": [],
   "source": [
    "dist_train_samples['n_samples'] = total_samples * dist_train_samples['pct_samples']"
   ]
  },
  {
   "cell_type": "code",
   "execution_count": 265,
   "id": "419072bc-463e-47a0-93a2-94dcc2753308",
   "metadata": {},
   "outputs": [],
   "source": [
    "dist_train_samples['n_samples'] = dist_train_samples['n_samples'].astype('int')"
   ]
  },
  {
   "cell_type": "code",
   "execution_count": 266,
   "id": "8363f36d-870d-483c-abcd-859a556d151d",
   "metadata": {},
   "outputs": [
    {
     "data": {
      "text/html": [
       "<div>\n",
       "<style scoped>\n",
       "    .dataframe tbody tr th:only-of-type {\n",
       "        vertical-align: middle;\n",
       "    }\n",
       "\n",
       "    .dataframe tbody tr th {\n",
       "        vertical-align: top;\n",
       "    }\n",
       "\n",
       "    .dataframe thead th {\n",
       "        text-align: right;\n",
       "    }\n",
       "</style>\n",
       "<table border=\"1\" class=\"dataframe\">\n",
       "  <thead>\n",
       "    <tr style=\"text-align: right;\">\n",
       "      <th></th>\n",
       "      <th>group</th>\n",
       "      <th>pct_samples</th>\n",
       "      <th>n_samples</th>\n",
       "    </tr>\n",
       "  </thead>\n",
       "  <tbody>\n",
       "    <tr>\n",
       "      <th>0</th>\n",
       "      <td>left_nref</td>\n",
       "      <td>0.45</td>\n",
       "      <td>4758</td>\n",
       "    </tr>\n",
       "    <tr>\n",
       "      <th>1</th>\n",
       "      <td>right_ref</td>\n",
       "      <td>0.45</td>\n",
       "      <td>4758</td>\n",
       "    </tr>\n",
       "    <tr>\n",
       "      <th>2</th>\n",
       "      <td>left_ref</td>\n",
       "      <td>0.05</td>\n",
       "      <td>528</td>\n",
       "    </tr>\n",
       "    <tr>\n",
       "      <th>3</th>\n",
       "      <td>right_nref</td>\n",
       "      <td>0.05</td>\n",
       "      <td>528</td>\n",
       "    </tr>\n",
       "  </tbody>\n",
       "</table>\n",
       "</div>"
      ],
      "text/plain": [
       "        group  pct_samples  n_samples\n",
       "0   left_nref         0.45       4758\n",
       "1   right_ref         0.45       4758\n",
       "2    left_ref         0.05        528\n",
       "3  right_nref         0.05        528"
      ]
     },
     "execution_count": 266,
     "metadata": {},
     "output_type": "execute_result"
    }
   ],
   "source": [
    "dist_train_samples"
   ]
  },
  {
   "cell_type": "markdown",
   "id": "d9d881d0-b146-4c63-a5c7-46093d31cbde",
   "metadata": {},
   "source": [
    "## Creating partitioning"
   ]
  },
  {
   "cell_type": "code",
   "execution_count": 296,
   "id": "d31fac49-4305-4eb5-aba3-dd77a56056bf",
   "metadata": {},
   "outputs": [],
   "source": [
    "from sklearn.model_selection import train_test_split"
   ]
  },
  {
   "cell_type": "code",
   "execution_count": 301,
   "id": "633c62ae-e917-4569-a61a-b3188c904579",
   "metadata": {},
   "outputs": [],
   "source": [
    "train_val_indexes = []"
   ]
  },
  {
   "cell_type": "code",
   "execution_count": 302,
   "id": "b7f4745a-b4f6-4570-858b-ba5ddfdb554f",
   "metadata": {},
   "outputs": [],
   "source": [
    "for row in dist_train_samples.itertuples():\n",
    "    df_group = df_img_info_balanced.query('groups == @row.group')\n",
    "    train_val_indexes.extend(df_group.sample(row.n_samples).index)"
   ]
  },
  {
   "cell_type": "code",
   "execution_count": 303,
   "id": "3a8d6730-62d3-4109-94d1-e8f0805f2983",
   "metadata": {},
   "outputs": [],
   "source": [
    "test_indexes = df_img_info_balanced.index.difference(train_val_indexes)"
   ]
  },
  {
   "cell_type": "code",
   "execution_count": 304,
   "id": "a5c53580-2f5e-44d7-bd77-53adb3a75a7d",
   "metadata": {},
   "outputs": [],
   "source": [
    "train_val_indexes = sorted(train_val_indexes)"
   ]
  },
  {
   "cell_type": "code",
   "execution_count": 305,
   "id": "eeca557e-4692-4c1f-b462-22b3f658df76",
   "metadata": {},
   "outputs": [],
   "source": [
    "df_train_val = df_img_info_balanced.loc[train_val_indexes]"
   ]
  },
  {
   "cell_type": "code",
   "execution_count": 307,
   "id": "577dc31d-5511-42af-8d26-c74f392f7fd1",
   "metadata": {},
   "outputs": [],
   "source": [
    "df_train, df_val = train_test_split(df_train_val, stratify=df_train_val['groups'], test_size=VAL_PCT_FROM_TRAIN, random_state=100)"
   ]
  },
  {
   "cell_type": "code",
   "execution_count": 308,
   "id": "787c9015-bc12-4e35-a439-944740af71a5",
   "metadata": {},
   "outputs": [],
   "source": [
    "df_img_info_balanced['split'] = np.nan"
   ]
  },
  {
   "cell_type": "code",
   "execution_count": 310,
   "id": "d34b1c68-fd34-412e-9051-a886978c22b1",
   "metadata": {},
   "outputs": [],
   "source": [
    "# Train\n",
    "df_img_info_balanced.loc[df_img_info_balanced.index.isin(df_train.index), 'split'] = 'train'\n",
    "# Validation\n",
    "df_img_info_balanced.loc[df_img_info_balanced.index.isin(df_val.index), 'split'] = 'val'\n",
    "# Test\n",
    "df_img_info_balanced.loc[df_img_info_balanced.index.isin(test_indexes), 'split'] = 'test'"
   ]
  },
  {
   "cell_type": "code",
   "execution_count": 320,
   "id": "57e0adc5-150c-49af-9f27-528627597ca2",
   "metadata": {},
   "outputs": [
    {
     "data": {
      "text/html": [
       "<div>\n",
       "<style scoped>\n",
       "    .dataframe tbody tr th:only-of-type {\n",
       "        vertical-align: middle;\n",
       "    }\n",
       "\n",
       "    .dataframe tbody tr th {\n",
       "        vertical-align: top;\n",
       "    }\n",
       "\n",
       "    .dataframe thead th {\n",
       "        text-align: right;\n",
       "    }\n",
       "</style>\n",
       "<table border=\"1\" class=\"dataframe\">\n",
       "  <thead>\n",
       "    <tr style=\"text-align: right;\">\n",
       "      <th></th>\n",
       "      <th></th>\n",
       "      <th>groups</th>\n",
       "    </tr>\n",
       "    <tr>\n",
       "      <th>split</th>\n",
       "      <th>groups</th>\n",
       "      <th></th>\n",
       "    </tr>\n",
       "  </thead>\n",
       "  <tbody>\n",
       "    <tr>\n",
       "      <th rowspan=\"4\" valign=\"top\">test</th>\n",
       "      <th>left_ref</th>\n",
       "      <td>0.47</td>\n",
       "    </tr>\n",
       "    <tr>\n",
       "      <th>right_nref</th>\n",
       "      <td>0.30</td>\n",
       "    </tr>\n",
       "    <tr>\n",
       "      <th>right_ref</th>\n",
       "      <td>0.20</td>\n",
       "    </tr>\n",
       "    <tr>\n",
       "      <th>left_nref</th>\n",
       "      <td>0.03</td>\n",
       "    </tr>\n",
       "    <tr>\n",
       "      <th rowspan=\"4\" valign=\"top\">train</th>\n",
       "      <th>left_nref</th>\n",
       "      <td>0.45</td>\n",
       "    </tr>\n",
       "    <tr>\n",
       "      <th>right_ref</th>\n",
       "      <td>0.45</td>\n",
       "    </tr>\n",
       "    <tr>\n",
       "      <th>left_ref</th>\n",
       "      <td>0.05</td>\n",
       "    </tr>\n",
       "    <tr>\n",
       "      <th>right_nref</th>\n",
       "      <td>0.05</td>\n",
       "    </tr>\n",
       "    <tr>\n",
       "      <th rowspan=\"4\" valign=\"top\">val</th>\n",
       "      <th>left_nref</th>\n",
       "      <td>0.45</td>\n",
       "    </tr>\n",
       "    <tr>\n",
       "      <th>right_ref</th>\n",
       "      <td>0.45</td>\n",
       "    </tr>\n",
       "    <tr>\n",
       "      <th>left_ref</th>\n",
       "      <td>0.05</td>\n",
       "    </tr>\n",
       "    <tr>\n",
       "      <th>right_nref</th>\n",
       "      <td>0.05</td>\n",
       "    </tr>\n",
       "  </tbody>\n",
       "</table>\n",
       "</div>"
      ],
      "text/plain": [
       "                  groups\n",
       "split groups            \n",
       "test  left_ref      0.47\n",
       "      right_nref    0.30\n",
       "      right_ref     0.20\n",
       "      left_nref     0.03\n",
       "train left_nref     0.45\n",
       "      right_ref     0.45\n",
       "      left_ref      0.05\n",
       "      right_nref    0.05\n",
       "val   left_nref     0.45\n",
       "      right_ref     0.45\n",
       "      left_ref      0.05\n",
       "      right_nref    0.05"
      ]
     },
     "execution_count": 320,
     "metadata": {},
     "output_type": "execute_result"
    }
   ],
   "source": [
    "df_img_info_balanced.groupby('split')['groups'].value_counts(normalize=True).round(decimals=2).to_frame()"
   ]
  },
  {
   "cell_type": "markdown",
   "id": "944663c0-eff2-4ab7-b92c-007716e2bc61",
   "metadata": {
    "tags": []
   },
   "source": [
    "## Majority Groups"
   ]
  },
  {
   "cell_type": "code",
   "execution_count": 189,
   "id": "f81bfd10-f475-4de3-a23a-da3f4c380ebb",
   "metadata": {},
   "outputs": [
    {
     "ename": "ValueError",
     "evalue": "Cannot take a larger sample than population when 'replace=False'",
     "output_type": "error",
     "traceback": [
      "\u001b[1;31m---------------------------------------------------------------------------\u001b[0m",
      "\u001b[1;31mValueError\u001b[0m                                Traceback (most recent call last)",
      "Cell \u001b[1;32mIn [189], line 3\u001b[0m\n\u001b[0;32m      1\u001b[0m \u001b[38;5;28;01mfor\u001b[39;00m majority_group \u001b[38;5;129;01min\u001b[39;00m MAJORITY_TRAIN_GROUPS:\n\u001b[0;32m      2\u001b[0m     df_majority_group \u001b[38;5;241m=\u001b[39m df_img_info_balanced\u001b[38;5;241m.\u001b[39mquery(\u001b[38;5;124m'\u001b[39m\u001b[38;5;124mgroups == @majority_group\u001b[39m\u001b[38;5;124m'\u001b[39m)\n\u001b[1;32m----> 3\u001b[0m     indexes_majority_group_train \u001b[38;5;241m=\u001b[39m \u001b[43mdf_majority_group\u001b[49m\u001b[38;5;241;43m.\u001b[39;49m\u001b[43msample\u001b[49m\u001b[43m(\u001b[49m\u001b[43mnum_samples_majority_group_train\u001b[49m\u001b[43m)\u001b[49m\u001b[38;5;241m.\u001b[39mindex\n\u001b[0;32m      4\u001b[0m     partition_split_indexes[\u001b[38;5;124m'\u001b[39m\u001b[38;5;124mtrain\u001b[39m\u001b[38;5;124m'\u001b[39m]\u001b[38;5;241m.\u001b[39mextend(indexes_majority_group_train)\n",
      "File \u001b[1;32m~\\.conda\\envs\\vit-robust\\lib\\site-packages\\pandas\\core\\generic.py:5778\u001b[0m, in \u001b[0;36mNDFrame.sample\u001b[1;34m(self, n, frac, replace, weights, random_state, axis, ignore_index)\u001b[0m\n\u001b[0;32m   5775\u001b[0m \u001b[38;5;28;01mif\u001b[39;00m weights \u001b[38;5;129;01mis\u001b[39;00m \u001b[38;5;129;01mnot\u001b[39;00m \u001b[38;5;28;01mNone\u001b[39;00m:\n\u001b[0;32m   5776\u001b[0m     weights \u001b[38;5;241m=\u001b[39m sample\u001b[38;5;241m.\u001b[39mpreprocess_weights(\u001b[38;5;28mself\u001b[39m, weights, axis)\n\u001b[1;32m-> 5778\u001b[0m sampled_indices \u001b[38;5;241m=\u001b[39m \u001b[43msample\u001b[49m\u001b[38;5;241;43m.\u001b[39;49m\u001b[43msample\u001b[49m\u001b[43m(\u001b[49m\u001b[43mobj_len\u001b[49m\u001b[43m,\u001b[49m\u001b[43m \u001b[49m\u001b[43msize\u001b[49m\u001b[43m,\u001b[49m\u001b[43m \u001b[49m\u001b[43mreplace\u001b[49m\u001b[43m,\u001b[49m\u001b[43m \u001b[49m\u001b[43mweights\u001b[49m\u001b[43m,\u001b[49m\u001b[43m \u001b[49m\u001b[43mrs\u001b[49m\u001b[43m)\u001b[49m\n\u001b[0;32m   5779\u001b[0m result \u001b[38;5;241m=\u001b[39m \u001b[38;5;28mself\u001b[39m\u001b[38;5;241m.\u001b[39mtake(sampled_indices, axis\u001b[38;5;241m=\u001b[39maxis)\n\u001b[0;32m   5781\u001b[0m \u001b[38;5;28;01mif\u001b[39;00m ignore_index:\n",
      "File \u001b[1;32m~\\.conda\\envs\\vit-robust\\lib\\site-packages\\pandas\\core\\sample.py:150\u001b[0m, in \u001b[0;36msample\u001b[1;34m(obj_len, size, replace, weights, random_state)\u001b[0m\n\u001b[0;32m    147\u001b[0m     \u001b[38;5;28;01melse\u001b[39;00m:\n\u001b[0;32m    148\u001b[0m         \u001b[38;5;28;01mraise\u001b[39;00m \u001b[38;5;167;01mValueError\u001b[39;00m(\u001b[38;5;124m\"\u001b[39m\u001b[38;5;124mInvalid weights: weights sum to zero\u001b[39m\u001b[38;5;124m\"\u001b[39m)\n\u001b[1;32m--> 150\u001b[0m \u001b[38;5;28;01mreturn\u001b[39;00m \u001b[43mrandom_state\u001b[49m\u001b[38;5;241;43m.\u001b[39;49m\u001b[43mchoice\u001b[49m\u001b[43m(\u001b[49m\u001b[43mobj_len\u001b[49m\u001b[43m,\u001b[49m\u001b[43m \u001b[49m\u001b[43msize\u001b[49m\u001b[38;5;241;43m=\u001b[39;49m\u001b[43msize\u001b[49m\u001b[43m,\u001b[49m\u001b[43m \u001b[49m\u001b[43mreplace\u001b[49m\u001b[38;5;241;43m=\u001b[39;49m\u001b[43mreplace\u001b[49m\u001b[43m,\u001b[49m\u001b[43m \u001b[49m\u001b[43mp\u001b[49m\u001b[38;5;241;43m=\u001b[39;49m\u001b[43mweights\u001b[49m\u001b[43m)\u001b[49m\u001b[38;5;241m.\u001b[39mastype(\n\u001b[0;32m    151\u001b[0m     np\u001b[38;5;241m.\u001b[39mintp, copy\u001b[38;5;241m=\u001b[39m\u001b[38;5;28;01mFalse\u001b[39;00m\n\u001b[0;32m    152\u001b[0m )\n",
      "File \u001b[1;32mmtrand.pyx:965\u001b[0m, in \u001b[0;36mnumpy.random.mtrand.RandomState.choice\u001b[1;34m()\u001b[0m\n",
      "\u001b[1;31mValueError\u001b[0m: Cannot take a larger sample than population when 'replace=False'"
     ]
    }
   ],
   "source": [
    "for majority_group in MAJORITY_TRAIN_GROUPS:\n",
    "    df_majority_group = df_img_info_balanced.query('groups == @majority_group')\n",
    "    indexes_majority_group_train = df_majority_group.sample(num_samples_majority_group_train).index\n",
    "    partition_split_indexes['train'].extend(indexes_majority_group_train)"
   ]
  },
  {
   "cell_type": "code",
   "execution_count": null,
   "id": "ee8458ae-9fe6-4370-b1ed-536a474e29a9",
   "metadata": {},
   "outputs": [],
   "source": []
  },
  {
   "cell_type": "code",
   "execution_count": null,
   "id": "467e8926-5b81-419f-826f-fabd24f5bf16",
   "metadata": {},
   "outputs": [],
   "source": [
    "for majority_group in MAJORITY_TRAIN_GROUPS:\n",
    "    "
   ]
  },
  {
   "cell_type": "code",
   "execution_count": 176,
   "id": "e315ee9f-971a-46ad-9380-7c775d4a7c2c",
   "metadata": {},
   "outputs": [
    {
     "data": {
      "text/html": [
       "<div>\n",
       "<style scoped>\n",
       "    .dataframe tbody tr th:only-of-type {\n",
       "        vertical-align: middle;\n",
       "    }\n",
       "\n",
       "    .dataframe tbody tr th {\n",
       "        vertical-align: top;\n",
       "    }\n",
       "\n",
       "    .dataframe thead th {\n",
       "        text-align: right;\n",
       "    }\n",
       "</style>\n",
       "<table border=\"1\" class=\"dataframe\">\n",
       "  <thead>\n",
       "    <tr style=\"text-align: right;\">\n",
       "      <th></th>\n",
       "      <th>patient_id</th>\n",
       "      <th>side</th>\n",
       "      <th>image</th>\n",
       "      <th>level</th>\n",
       "      <th>level_group</th>\n",
       "      <th>groups</th>\n",
       "    </tr>\n",
       "  </thead>\n",
       "  <tbody>\n",
       "    <tr>\n",
       "      <th>0</th>\n",
       "      <td>15</td>\n",
       "      <td>left</td>\n",
       "      <td>1/15_left.jpeg</td>\n",
       "      <td>1</td>\n",
       "      <td>nref</td>\n",
       "      <td>left_nref</td>\n",
       "    </tr>\n",
       "    <tr>\n",
       "      <th>1</th>\n",
       "      <td>15</td>\n",
       "      <td>left</td>\n",
       "      <td>1/15_left.jpeg</td>\n",
       "      <td>1</td>\n",
       "      <td>nref</td>\n",
       "      <td>left_nref</td>\n",
       "    </tr>\n",
       "    <tr>\n",
       "      <th>2</th>\n",
       "      <td>15</td>\n",
       "      <td>right</td>\n",
       "      <td>2/15_right.jpeg</td>\n",
       "      <td>2</td>\n",
       "      <td>ref</td>\n",
       "      <td>right_ref</td>\n",
       "    </tr>\n",
       "    <tr>\n",
       "      <th>3</th>\n",
       "      <td>16</td>\n",
       "      <td>left</td>\n",
       "      <td>4/16_left.jpeg</td>\n",
       "      <td>4</td>\n",
       "      <td>ref</td>\n",
       "      <td>left_ref</td>\n",
       "    </tr>\n",
       "    <tr>\n",
       "      <th>4</th>\n",
       "      <td>16</td>\n",
       "      <td>left</td>\n",
       "      <td>4/16_left.jpeg</td>\n",
       "      <td>4</td>\n",
       "      <td>ref</td>\n",
       "      <td>left_ref</td>\n",
       "    </tr>\n",
       "    <tr>\n",
       "      <th>...</th>\n",
       "      <td>...</td>\n",
       "      <td>...</td>\n",
       "      <td>...</td>\n",
       "      <td>...</td>\n",
       "      <td>...</td>\n",
       "      <td>...</td>\n",
       "    </tr>\n",
       "    <tr>\n",
       "      <th>26435</th>\n",
       "      <td>44328</td>\n",
       "      <td>right</td>\n",
       "      <td>1/44328_right.jpeg</td>\n",
       "      <td>1</td>\n",
       "      <td>nref</td>\n",
       "      <td>right_nref</td>\n",
       "    </tr>\n",
       "    <tr>\n",
       "      <th>26436</th>\n",
       "      <td>44328</td>\n",
       "      <td>right</td>\n",
       "      <td>1/44328_right.jpeg</td>\n",
       "      <td>1</td>\n",
       "      <td>nref</td>\n",
       "      <td>right_nref</td>\n",
       "    </tr>\n",
       "    <tr>\n",
       "      <th>26437</th>\n",
       "      <td>44343</td>\n",
       "      <td>left</td>\n",
       "      <td>0/44343_left.jpeg</td>\n",
       "      <td>0</td>\n",
       "      <td>nref</td>\n",
       "      <td>left_nref</td>\n",
       "    </tr>\n",
       "    <tr>\n",
       "      <th>26438</th>\n",
       "      <td>44347</td>\n",
       "      <td>left</td>\n",
       "      <td>0/44347_left.jpeg</td>\n",
       "      <td>0</td>\n",
       "      <td>nref</td>\n",
       "      <td>left_nref</td>\n",
       "    </tr>\n",
       "    <tr>\n",
       "      <th>26439</th>\n",
       "      <td>44349</td>\n",
       "      <td>right</td>\n",
       "      <td>1/44349_right.jpeg</td>\n",
       "      <td>1</td>\n",
       "      <td>nref</td>\n",
       "      <td>right_nref</td>\n",
       "    </tr>\n",
       "  </tbody>\n",
       "</table>\n",
       "<p>26440 rows × 6 columns</p>\n",
       "</div>"
      ],
      "text/plain": [
       "      patient_id   side               image  level level_group      groups\n",
       "0             15   left      1/15_left.jpeg      1        nref   left_nref\n",
       "1             15   left      1/15_left.jpeg      1        nref   left_nref\n",
       "2             15  right     2/15_right.jpeg      2         ref   right_ref\n",
       "3             16   left      4/16_left.jpeg      4         ref    left_ref\n",
       "4             16   left      4/16_left.jpeg      4         ref    left_ref\n",
       "...          ...    ...                 ...    ...         ...         ...\n",
       "26435      44328  right  1/44328_right.jpeg      1        nref  right_nref\n",
       "26436      44328  right  1/44328_right.jpeg      1        nref  right_nref\n",
       "26437      44343   left   0/44343_left.jpeg      0        nref   left_nref\n",
       "26438      44347   left   0/44347_left.jpeg      0        nref   left_nref\n",
       "26439      44349  right  1/44349_right.jpeg      1        nref  right_nref\n",
       "\n",
       "[26440 rows x 6 columns]"
      ]
     },
     "execution_count": 176,
     "metadata": {},
     "output_type": "execute_result"
    }
   ],
   "source": [
    "df_img_info_balanced"
   ]
  },
  {
   "cell_type": "code",
   "execution_count": 154,
   "id": "b3e0fdae-5e4f-4392-bcfe-69cd9ac2d7b2",
   "metadata": {},
   "outputs": [
    {
     "data": {
      "text/plain": [
       "4759"
      ]
     },
     "execution_count": 154,
     "metadata": {},
     "output_type": "execute_result"
    }
   ],
   "source": [
    "num_samples_train"
   ]
  },
  {
   "cell_type": "code",
   "execution_count": 321,
   "id": "6fec0c15-2695-4056-9337-5860a4a0b23d",
   "metadata": {},
   "outputs": [],
   "source": [
    "OUTPUT_PATH = os.path.join(IMG_FOLDER, 'metadata_balanced.csv')\n",
    "df_img_info.to_csv(OUTPUT_PATH, index=False)"
   ]
  },
  {
   "cell_type": "markdown",
   "id": "68392785-4400-490f-9157-781d4378806a",
   "metadata": {},
   "source": [
    "# Imbalanced Splitting"
   ]
  },
  {
   "cell_type": "code",
   "execution_count": 139,
   "id": "f571985e-0256-4427-9df7-8f2db12f1716",
   "metadata": {},
   "outputs": [],
   "source": [
    "df_major_groups_train = df_img_info.loc[df_img_info.groups.isin(MAJORITY_TRAIN_GROUPS)]"
   ]
  },
  {
   "cell_type": "code",
   "execution_count": 140,
   "id": "62ab0465-d7d8-437e-9f7f-8cb0cc967380",
   "metadata": {},
   "outputs": [],
   "source": [
    "df_minor_groups_train = df_img_info.loc[df_img_info.index.difference(df_major_groups_train.index)]"
   ]
  },
  {
   "cell_type": "code",
   "execution_count": 141,
   "id": "9943f0f6-6eee-4561-84b0-1c10cd765d20",
   "metadata": {},
   "outputs": [],
   "source": [
    "majority_train, minority_test = train_test_split(\n",
    "    df_major_groups_train, \n",
    "    stratify=df_major_groups_train['groups'], \n",
    "    train_size=MAJORITY_PROPORTION,\n",
    "    random_state=SEED)"
   ]
  },
  {
   "cell_type": "code",
   "execution_count": 142,
   "id": "cf31a0e3-4afe-4abb-acb5-ace888bb9608",
   "metadata": {},
   "outputs": [],
   "source": [
    "minority_train_size = round((len(majority_train) / MAJORITY_PROPORTION) * (1 - MAJORITY_PROPORTION))"
   ]
  },
  {
   "cell_type": "code",
   "execution_count": 143,
   "id": "3df3ed9a-8e04-46b4-b9c9-aa4032c00fcf",
   "metadata": {},
   "outputs": [],
   "source": [
    "majority_test, minority_train = train_test_split(\n",
    "    df_minor_groups_train, \n",
    "    stratify=df_minor_groups_train['groups'], \n",
    "    test_size=minority_train_size / len(df_minor_groups_train),\n",
    "    random_state=SEED)"
   ]
  },
  {
   "cell_type": "code",
   "execution_count": 144,
   "id": "0ae0f053-0335-4578-be3f-0d5bd7ba14b5",
   "metadata": {},
   "outputs": [],
   "source": [
    "# Taking part of training for validation\n",
    "train_images = pd.concat([majority_train, minority_train], axis=0, sort=True)"
   ]
  },
  {
   "cell_type": "code",
   "execution_count": 145,
   "id": "09f71a86-099f-4eab-820e-cce5cceb0e8e",
   "metadata": {},
   "outputs": [],
   "source": [
    "train_images, val_images = train_test_split(\n",
    "    train_images, \n",
    "    stratify=train_images['groups'],\n",
    "    test_size=VAL_PCT_FROM_TRAIN,\n",
    "    random_state=SEED)"
   ]
  },
  {
   "cell_type": "code",
   "execution_count": 146,
   "id": "c34e894a-7b60-4922-8162-8b3c337d8bdc",
   "metadata": {},
   "outputs": [],
   "source": [
    "test_images = pd.concat([majority_test, minority_test], axis=0, sort=True)"
   ]
  },
  {
   "cell_type": "code",
   "execution_count": 147,
   "id": "db9285d6-cf25-4d60-a2b4-b39ffb4f085f",
   "metadata": {},
   "outputs": [
    {
     "name": "stdout",
     "output_type": "stream",
     "text": [
      "Train:\n",
      "{'left_nref': 0.36, 'left_ref': 0.06, 'right_nref': 0.04, 'right_ref': 0.54}\n",
      "Validation:\n",
      "{'left_nref': 0.36, 'left_ref': 0.06, 'right_nref': 0.04, 'right_ref': 0.54}\n",
      "Test:\n",
      "{'left_nref': 0.04, 'left_ref': 0.54, 'right_nref': 0.36, 'right_ref': 0.06}\n"
     ]
    }
   ],
   "source": [
    "# Group distribution\n",
    "print(f'Train:')\n",
    "pprint(train_images['groups'].value_counts(normalize=True).round(decimals=2).to_dict())\n",
    "print(f'Validation:')\n",
    "pprint(val_images['groups'].value_counts(normalize=True).round(decimals=2).to_dict())\n",
    "print(f'Test:')\n",
    "pprint(test_images['groups'].value_counts(normalize=True).round(decimals=2).to_dict())"
   ]
  },
  {
   "cell_type": "code",
   "execution_count": 148,
   "id": "2251c29f-3483-4cec-a045-18ac6bb3e9ea",
   "metadata": {},
   "outputs": [
    {
     "name": "stdout",
     "output_type": "stream",
     "text": [
      "Train:\n",
      "{'left_nref': 4283, 'left_ref': 714, 'right_nref': 476, 'right_ref': 6425}\n",
      "Validation:\n",
      "{'left_nref': 476, 'left_ref': 79, 'right_nref': 53, 'right_ref': 714}\n",
      "Test:\n",
      "{'left_nref': 529, 'left_ref': 7139, 'right_nref': 4759, 'right_ref': 793}\n"
     ]
    }
   ],
   "source": [
    "# Group total samples\n",
    "print(f'Train:')\n",
    "pprint(train_images['groups'].value_counts().round(decimals=2).to_dict())\n",
    "print(f'Validation:')\n",
    "pprint(val_images['groups'].value_counts().round(decimals=2).to_dict())\n",
    "print(f'Test:')\n",
    "pprint(test_images['groups'].value_counts().round(decimals=2).to_dict())"
   ]
  },
  {
   "cell_type": "markdown",
   "id": "c6ab504d-f9be-4d1e-b197-80d9d93257b7",
   "metadata": {},
   "source": [
    "<br>"
   ]
  },
  {
   "cell_type": "markdown",
   "id": "f3648970-1ae0-4419-8fcc-fef0790a0ce3",
   "metadata": {},
   "source": [
    "# Saving outputs splits"
   ]
  },
  {
   "cell_type": "code",
   "execution_count": 72,
   "id": "4307853f-5572-4162-a91e-fd6cebc36515",
   "metadata": {},
   "outputs": [],
   "source": [
    "metadata = df_img_info"
   ]
  },
  {
   "cell_type": "code",
   "execution_count": 73,
   "id": "6d77224b-b1c8-46ea-981f-8b05f7f96ce4",
   "metadata": {},
   "outputs": [],
   "source": [
    "# Transforming to relative image path from the dataset folder\n",
    "metadata['image'] = metadata['image'].str.replace('../datasets/', '', regex=False)"
   ]
  },
  {
   "cell_type": "code",
   "execution_count": 74,
   "id": "836f72d2-d323-44ac-b41e-984bb32fbfc0",
   "metadata": {},
   "outputs": [],
   "source": [
    "metadata['split'] = np.nan"
   ]
  },
  {
   "cell_type": "code",
   "execution_count": 75,
   "id": "d5422d5b-0620-4728-95a1-b58049fee1ed",
   "metadata": {},
   "outputs": [],
   "source": [
    "# Training set\n",
    "metadata.loc[train_images.index, 'split'] = 'train'"
   ]
  },
  {
   "cell_type": "code",
   "execution_count": 76,
   "id": "9f120404-d3b4-41dc-9a7d-580a470cc78c",
   "metadata": {},
   "outputs": [],
   "source": [
    "# Validation set\n",
    "metadata.loc[val_images.index, 'split'] = 'val'"
   ]
  },
  {
   "cell_type": "code",
   "execution_count": 77,
   "id": "4b62097f-f559-464a-b388-e4953a275cab",
   "metadata": {},
   "outputs": [],
   "source": [
    "# Test set\n",
    "metadata.loc[test_images.index, 'split'] = 'test'"
   ]
  },
  {
   "cell_type": "code",
   "execution_count": 78,
   "id": "2f69f1c6-30c5-4350-a458-6a7f68baf748",
   "metadata": {},
   "outputs": [
    {
     "data": {
      "text/html": [
       "<div>\n",
       "<style scoped>\n",
       "    .dataframe tbody tr th:only-of-type {\n",
       "        vertical-align: middle;\n",
       "    }\n",
       "\n",
       "    .dataframe tbody tr th {\n",
       "        vertical-align: top;\n",
       "    }\n",
       "\n",
       "    .dataframe thead th {\n",
       "        text-align: right;\n",
       "    }\n",
       "</style>\n",
       "<table border=\"1\" class=\"dataframe\">\n",
       "  <thead>\n",
       "    <tr style=\"text-align: right;\">\n",
       "      <th></th>\n",
       "      <th>patient_id</th>\n",
       "      <th>side</th>\n",
       "      <th>image</th>\n",
       "      <th>level</th>\n",
       "      <th>level_group</th>\n",
       "      <th>groups</th>\n",
       "      <th>split</th>\n",
       "    </tr>\n",
       "  </thead>\n",
       "  <tbody>\n",
       "    <tr>\n",
       "      <th>0</th>\n",
       "      <td>10</td>\n",
       "      <td>left</td>\n",
       "      <td>0/10_left.jpeg</td>\n",
       "      <td>0</td>\n",
       "      <td>nref</td>\n",
       "      <td>left_nref</td>\n",
       "      <td>val</td>\n",
       "    </tr>\n",
       "    <tr>\n",
       "      <th>1</th>\n",
       "      <td>10</td>\n",
       "      <td>right</td>\n",
       "      <td>0/10_right.jpeg</td>\n",
       "      <td>0</td>\n",
       "      <td>nref</td>\n",
       "      <td>right_nref</td>\n",
       "      <td>test</td>\n",
       "    </tr>\n",
       "    <tr>\n",
       "      <th>2</th>\n",
       "      <td>13</td>\n",
       "      <td>left</td>\n",
       "      <td>0/13_left.jpeg</td>\n",
       "      <td>0</td>\n",
       "      <td>nref</td>\n",
       "      <td>left_nref</td>\n",
       "      <td>train</td>\n",
       "    </tr>\n",
       "    <tr>\n",
       "      <th>3</th>\n",
       "      <td>13</td>\n",
       "      <td>right</td>\n",
       "      <td>0/13_right.jpeg</td>\n",
       "      <td>0</td>\n",
       "      <td>nref</td>\n",
       "      <td>right_nref</td>\n",
       "      <td>test</td>\n",
       "    </tr>\n",
       "    <tr>\n",
       "      <th>4</th>\n",
       "      <td>15</td>\n",
       "      <td>left</td>\n",
       "      <td>1/15_left.jpeg</td>\n",
       "      <td>1</td>\n",
       "      <td>nref</td>\n",
       "      <td>left_nref</td>\n",
       "      <td>test</td>\n",
       "    </tr>\n",
       "    <tr>\n",
       "      <th>...</th>\n",
       "      <td>...</td>\n",
       "      <td>...</td>\n",
       "      <td>...</td>\n",
       "      <td>...</td>\n",
       "      <td>...</td>\n",
       "      <td>...</td>\n",
       "      <td>...</td>\n",
       "    </tr>\n",
       "    <tr>\n",
       "      <th>35103</th>\n",
       "      <td>44347</td>\n",
       "      <td>right</td>\n",
       "      <td>0/44347_right.jpeg</td>\n",
       "      <td>0</td>\n",
       "      <td>nref</td>\n",
       "      <td>right_nref</td>\n",
       "      <td>test</td>\n",
       "    </tr>\n",
       "    <tr>\n",
       "      <th>35104</th>\n",
       "      <td>44348</td>\n",
       "      <td>left</td>\n",
       "      <td>0/44348_left.jpeg</td>\n",
       "      <td>0</td>\n",
       "      <td>nref</td>\n",
       "      <td>left_nref</td>\n",
       "      <td>train</td>\n",
       "    </tr>\n",
       "    <tr>\n",
       "      <th>35105</th>\n",
       "      <td>44348</td>\n",
       "      <td>right</td>\n",
       "      <td>0/44348_right.jpeg</td>\n",
       "      <td>0</td>\n",
       "      <td>nref</td>\n",
       "      <td>right_nref</td>\n",
       "      <td>test</td>\n",
       "    </tr>\n",
       "    <tr>\n",
       "      <th>35106</th>\n",
       "      <td>44349</td>\n",
       "      <td>left</td>\n",
       "      <td>0/44349_left.jpeg</td>\n",
       "      <td>0</td>\n",
       "      <td>nref</td>\n",
       "      <td>left_nref</td>\n",
       "      <td>train</td>\n",
       "    </tr>\n",
       "    <tr>\n",
       "      <th>35107</th>\n",
       "      <td>44349</td>\n",
       "      <td>right</td>\n",
       "      <td>1/44349_right.jpeg</td>\n",
       "      <td>1</td>\n",
       "      <td>nref</td>\n",
       "      <td>right_nref</td>\n",
       "      <td>test</td>\n",
       "    </tr>\n",
       "  </tbody>\n",
       "</table>\n",
       "<p>35108 rows × 7 columns</p>\n",
       "</div>"
      ],
      "text/plain": [
       "      patient_id   side               image  level level_group      groups  \\\n",
       "0             10   left      0/10_left.jpeg      0        nref   left_nref   \n",
       "1             10  right     0/10_right.jpeg      0        nref  right_nref   \n",
       "2             13   left      0/13_left.jpeg      0        nref   left_nref   \n",
       "3             13  right     0/13_right.jpeg      0        nref  right_nref   \n",
       "4             15   left      1/15_left.jpeg      1        nref   left_nref   \n",
       "...          ...    ...                 ...    ...         ...         ...   \n",
       "35103      44347  right  0/44347_right.jpeg      0        nref  right_nref   \n",
       "35104      44348   left   0/44348_left.jpeg      0        nref   left_nref   \n",
       "35105      44348  right  0/44348_right.jpeg      0        nref  right_nref   \n",
       "35106      44349   left   0/44349_left.jpeg      0        nref   left_nref   \n",
       "35107      44349  right  1/44349_right.jpeg      1        nref  right_nref   \n",
       "\n",
       "       split  \n",
       "0        val  \n",
       "1       test  \n",
       "2      train  \n",
       "3       test  \n",
       "4       test  \n",
       "...      ...  \n",
       "35103   test  \n",
       "35104  train  \n",
       "35105   test  \n",
       "35106  train  \n",
       "35107   test  \n",
       "\n",
       "[35108 rows x 7 columns]"
      ]
     },
     "execution_count": 78,
     "metadata": {},
     "output_type": "execute_result"
    }
   ],
   "source": [
    "metadata"
   ]
  },
  {
   "cell_type": "code",
   "execution_count": 79,
   "id": "e3de00a4-09ab-4b84-bb98-a87f2eadd41e",
   "metadata": {},
   "outputs": [],
   "source": [
    "OUTPUT_PATH = os.path.join(IMG_FOLDER, 'metadata.csv')\n",
    "df_img_info.to_csv(OUTPUT_PATH, index=False)"
   ]
  },
  {
   "cell_type": "markdown",
   "id": "5a7e4391-dd51-407b-b3e1-49a40efb76fb",
   "metadata": {},
   "source": [
    "<br>"
   ]
  }
 ],
 "metadata": {
  "kernelspec": {
   "display_name": "ViT Robust (vit-robust)",
   "language": "python",
   "name": "vit-robust"
  },
  "language_info": {
   "codemirror_mode": {
    "name": "ipython",
    "version": 3
   },
   "file_extension": ".py",
   "mimetype": "text/x-python",
   "name": "python",
   "nbconvert_exporter": "python",
   "pygments_lexer": "ipython3",
   "version": "3.9.13"
  }
 },
 "nbformat": 4,
 "nbformat_minor": 5
}
