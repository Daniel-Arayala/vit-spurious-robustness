{
 "cells": [
  {
   "cell_type": "markdown",
   "id": "51eb83aa-0661-48c8-b75c-0345f9b71c4a",
   "metadata": {},
   "source": [
    "# Imports"
   ]
  },
  {
   "cell_type": "code",
   "execution_count": 8,
   "id": "dc0c1238-a2bd-48d4-b085-23a518c81adf",
   "metadata": {},
   "outputs": [],
   "source": [
    "import os \n",
    "import pandas as pd\n",
    "import numpy as np\n",
    "from glob import glob\n",
    "from tqdm.notebook import tqdm\n",
    "from sklearn.model_selection import train_test_split\n",
    "from pprint import pprint"
   ]
  },
  {
   "cell_type": "markdown",
   "id": "22361b41-76ac-4d33-ac57-c9b8c24fbf1c",
   "metadata": {},
   "source": [
    "<br>"
   ]
  },
  {
   "cell_type": "markdown",
   "id": "96d67574-17af-4ba3-aafc-e2b95aa55fd1",
   "metadata": {},
   "source": [
    "# Explanation"
   ]
  },
  {
   "cell_type": "markdown",
   "id": "010b3cee-3c16-47e0-8874-1e6ff05b0f56",
   "metadata": {},
   "source": [
    "This data splitter will explore the spurious correlation that might arise between right and left eye images for a certain severity level. If the model was trained only on right-eye images with non-referrable severity levels (0 and 1) images and tested on right-eye images with referrable severity levels (2 to 4), there are two possible outcomes. If the model learns the spurious relationship between the side of the eye and the severity it will classify the test samples with lower severity scores. If the model is robust enough to the spurious correlation it will most probably classify the test images correctly regardless of the eye-side bias introduced in the data split."
   ]
  },
  {
   "cell_type": "markdown",
   "id": "e88aaee1-2b97-4f74-98ce-0af809a17468",
   "metadata": {},
   "source": [
    "<br>"
   ]
  },
  {
   "cell_type": "markdown",
   "id": "dcc33a6b-4215-455e-a6f7-c37cb107ce3c",
   "metadata": {},
   "source": [
    "# Common Functions"
   ]
  },
  {
   "cell_type": "code",
   "execution_count": 45,
   "id": "268d5b1a-cbaf-4b2f-8121-43a92b9edc3f",
   "metadata": {},
   "outputs": [],
   "source": [
    "def detect_image_extension(image_folder):\n",
    "    IMG_EXTENSIONS = ('.jpg', '.jpeg', '.png', '.bmp')\n",
    "    image_paths = glob(f'{image_folder}/**/**')\n",
    "    assert len(image_paths), 'The images folder is empty! Please correct the folder path.'\n",
    "    extension = os.path.splitext(image_paths[0])[-1]\n",
    "    assert extension in IMG_EXTENSIONS, 'The images folder must only contain images files with consistent format.'\n",
    "    return extension"
   ]
  },
  {
   "cell_type": "markdown",
   "id": "d95cdc00-0744-4bd4-a93b-33e8befdab99",
   "metadata": {},
   "source": [
    "<br>"
   ]
  },
  {
   "cell_type": "markdown",
   "id": "d683671f-53ab-4cdf-8a8b-f719dee7cdc0",
   "metadata": {},
   "source": [
    "# Definitions"
   ]
  },
  {
   "cell_type": "code",
   "execution_count": 46,
   "id": "0d63274a-a2af-4e1a-b2be-edde2f691735",
   "metadata": {},
   "outputs": [],
   "source": [
    "# Path to image folder\n",
    "IMG_FOLDER = '../datasets/reduced_eyepacs_resized_cropped'\n",
    "# Path to the file containing the image labels\n",
    "IMG_LABELS_FILE = '../datasets/reduced_eyepacs_resized_cropped/trainLabels_cropped.csv'\n",
    "IMAGE_EXT = detect_image_extension(IMG_FOLDER)\n",
    "SEED = 100"
   ]
  },
  {
   "cell_type": "markdown",
   "id": "d1dbb339-e13b-4be0-a90f-6ce68078c357",
   "metadata": {},
   "source": [
    "<br>"
   ]
  },
  {
   "cell_type": "markdown",
   "id": "b78d3725-b762-4188-8e2b-8405c658fec7",
   "metadata": {},
   "source": [
    "# Splitting data based on eye side, severity and frequency"
   ]
  },
  {
   "cell_type": "markdown",
   "id": "37959ccb-522b-4d27-a1de-d512eeb7ac82",
   "metadata": {},
   "source": [
    "## Preparing useful informationm"
   ]
  },
  {
   "cell_type": "code",
   "execution_count": 47,
   "id": "e7b83fb6-77ba-4385-90d4-928faea51182",
   "metadata": {},
   "outputs": [],
   "source": [
    "# Reading the labels data\n",
    "df_labels = pd.read_csv(IMG_LABELS_FILE)\n",
    "df_labels = df_labels[['image', 'level']]"
   ]
  },
  {
   "cell_type": "code",
   "execution_count": 48,
   "id": "ada67dfd-cd8c-40ea-89d6-ae1da7e38c15",
   "metadata": {},
   "outputs": [],
   "source": [
    "# The image info will gather the useful information for splitting\n",
    "df_img_info = df_labels"
   ]
  },
  {
   "cell_type": "code",
   "execution_count": 49,
   "id": "1707c467-bd5b-42a7-b16c-14faffc16fb8",
   "metadata": {},
   "outputs": [],
   "source": [
    "# Separates the patient ID from the eye-side information\n",
    "image_name_info = df_img_info['image'].str.split('_', expand=True)"
   ]
  },
  {
   "cell_type": "code",
   "execution_count": 50,
   "id": "b3f348b1-1fe3-4998-8305-481ecef904da",
   "metadata": {},
   "outputs": [],
   "source": [
    "image_name_info.columns = ['patient_id', 'side']"
   ]
  },
  {
   "cell_type": "code",
   "execution_count": 51,
   "id": "66150c62-dd52-4a49-89bb-ff4b78d5f1cb",
   "metadata": {},
   "outputs": [],
   "source": [
    "df_img_info = pd.concat([image_name_info, df_img_info], axis=1)"
   ]
  },
  {
   "cell_type": "code",
   "execution_count": 56,
   "id": "472e39c2-e0d8-4356-bb1e-68484cdccb96",
   "metadata": {},
   "outputs": [],
   "source": [
    "df_img_info['image']  = df_img_info['level'].astype('str') + '/' + df_img_info['image'] + IMAGE_EXT"
   ]
  },
  {
   "cell_type": "code",
   "execution_count": 57,
   "id": "1dabb059-6677-46c6-b4ca-d3db58b71026",
   "metadata": {},
   "outputs": [],
   "source": [
    "# Referrable and non-referrable levels\n",
    "df_img_info['level_group'] = df_img_info['level'].map(lambda val: 'nref' if val <= 1 else 'ref')"
   ]
  },
  {
   "cell_type": "code",
   "execution_count": 58,
   "id": "0340476b-14e9-4157-9251-fdcb199845d1",
   "metadata": {},
   "outputs": [],
   "source": [
    "df_img_info['groups'] = df_img_info['side'] + '_' + df_img_info['level_group']"
   ]
  },
  {
   "cell_type": "code",
   "execution_count": 59,
   "id": "1a71925f-9758-4188-9805-2a829b55defa",
   "metadata": {},
   "outputs": [
    {
     "data": {
      "text/plain": [
       "right_nref    0.403555\n",
       "left_nref     0.400820\n",
       "left_ref      0.099009\n",
       "right_ref     0.096616\n",
       "Name: groups, dtype: float64"
      ]
     },
     "execution_count": 59,
     "metadata": {},
     "output_type": "execute_result"
    }
   ],
   "source": [
    "df_img_info.groups.value_counts(normalize=True)"
   ]
  },
  {
   "cell_type": "markdown",
   "id": "23af7cd1-d972-40c6-9a81-be52ea361105",
   "metadata": {},
   "source": [
    "## Splitting Images"
   ]
  },
  {
   "cell_type": "markdown",
   "id": "fa3ec527-f85c-4aa2-bbca-fa69f8537c01",
   "metadata": {},
   "source": [
    "First, we need to first define two important sets, the environment set $\\mathcal{E}$ and the labels set $\\mathcal{Y}$"
   ]
  },
  {
   "cell_type": "markdown",
   "id": "0d6b2d43-3986-4865-9646-96257f26405e",
   "metadata": {},
   "source": [
    "$$\n",
    "\\large \\mathcal{E} = \\{left,\\;right\\}\n",
    "$$"
   ]
  },
  {
   "cell_type": "markdown",
   "id": "dc7f3b7e-25c0-43eb-879d-5a5df963a5c0",
   "metadata": {},
   "source": [
    "$$\n",
    "\\large \\mathcal{Y} = \\{nref,\\; ref\\}\\; \n",
    "$$"
   ]
  },
  {
   "cell_type": "markdown",
   "id": "774f1fd7-c5e4-4d26-9d1f-d370c7d7392a",
   "metadata": {},
   "source": [
    "$where:$\n",
    "\\begin{equation*}    \n",
    "    \\begin{aligned}\n",
    "        &nref = \\{0,1\\}\\\\\n",
    "        &ref = \\{2,3,4\\}\n",
    "    \\end{aligned}\n",
    "\\end{equation*}"
   ]
  },
  {
   "cell_type": "code",
   "execution_count": 61,
   "id": "93c2be5f-282b-40e7-9ced-b2306d02e02b",
   "metadata": {},
   "outputs": [],
   "source": [
    "MAJORITY_TRAIN_GROUPS = ['left_nref', 'right_ref']\n",
    "MAJORITY_PROPORTION = 0.9\n",
    "VAL_PCT_FROM_TRAIN = 0.1"
   ]
  },
  {
   "cell_type": "code",
   "execution_count": 62,
   "id": "f571985e-0256-4427-9df7-8f2db12f1716",
   "metadata": {},
   "outputs": [],
   "source": [
    "df_major_groups_train = df_img_info.loc[df_img_info.groups.isin(MAJORITY_TRAIN_GROUPS)]"
   ]
  },
  {
   "cell_type": "code",
   "execution_count": 63,
   "id": "62ab0465-d7d8-437e-9f7f-8cb0cc967380",
   "metadata": {},
   "outputs": [],
   "source": [
    "df_minor_groups_train = df_img_info.loc[df_img_info.index.difference(df_major_groups_train.index)]"
   ]
  },
  {
   "cell_type": "code",
   "execution_count": 64,
   "id": "9943f0f6-6eee-4561-84b0-1c10cd765d20",
   "metadata": {},
   "outputs": [],
   "source": [
    "majority_train, minority_test = train_test_split(\n",
    "    df_major_groups_train, \n",
    "    stratify=df_major_groups_train['groups'], \n",
    "    train_size=MAJORITY_PROPORTION,\n",
    "    random_state=SEED)"
   ]
  },
  {
   "cell_type": "code",
   "execution_count": 65,
   "id": "cf31a0e3-4afe-4abb-acb5-ace888bb9608",
   "metadata": {},
   "outputs": [],
   "source": [
    "minority_train_size = round((len(majority_train) / MAJORITY_PROPORTION) * (1 - MAJORITY_PROPORTION))"
   ]
  },
  {
   "cell_type": "code",
   "execution_count": 66,
   "id": "3df3ed9a-8e04-46b4-b9c9-aa4032c00fcf",
   "metadata": {},
   "outputs": [],
   "source": [
    "majority_test, minority_train = train_test_split(\n",
    "    df_minor_groups_train, \n",
    "    stratify=df_minor_groups_train['groups'], \n",
    "    test_size=minority_train_size / len(df_minor_groups_train),\n",
    "    random_state=SEED)"
   ]
  },
  {
   "cell_type": "code",
   "execution_count": 67,
   "id": "0ae0f053-0335-4578-be3f-0d5bd7ba14b5",
   "metadata": {},
   "outputs": [],
   "source": [
    "# Taking part of training for validation\n",
    "train_images = pd.concat([majority_train, minority_train], axis=0, sort=True)"
   ]
  },
  {
   "cell_type": "code",
   "execution_count": 68,
   "id": "09f71a86-099f-4eab-820e-cce5cceb0e8e",
   "metadata": {},
   "outputs": [],
   "source": [
    "train_images, val_images = train_test_split(\n",
    "    train_images, \n",
    "    stratify=train_images['groups'],\n",
    "    test_size=VAL_PCT_FROM_TRAIN,\n",
    "    random_state=SEED)"
   ]
  },
  {
   "cell_type": "code",
   "execution_count": 69,
   "id": "c34e894a-7b60-4922-8162-8b3c337d8bdc",
   "metadata": {},
   "outputs": [],
   "source": [
    "test_images = pd.concat([majority_test, minority_test], axis=0, sort=True)"
   ]
  },
  {
   "cell_type": "code",
   "execution_count": 70,
   "id": "db9285d6-cf25-4d60-a2b4-b39ffb4f085f",
   "metadata": {},
   "outputs": [
    {
     "name": "stdout",
     "output_type": "stream",
     "text": [
      "Train:\n",
      "{'left_nref': 0.73, 'left_ref': 0.02, 'right_nref': 0.08, 'right_ref': 0.17}\n",
      "Validation:\n",
      "{'left_nref': 0.73, 'left_ref': 0.02, 'right_nref': 0.08, 'right_ref': 0.18}\n",
      "Test:\n",
      "{'left_nref': 0.08, 'left_ref': 0.18, 'right_nref': 0.72, 'right_ref': 0.02}\n"
     ]
    }
   ],
   "source": [
    "# Group distribution\n",
    "print(f'Train:')\n",
    "pprint(train_images['groups'].value_counts(normalize=True).round(decimals=2).to_dict())\n",
    "print(f'Validation:')\n",
    "pprint(val_images['groups'].value_counts(normalize=True).round(decimals=2).to_dict())\n",
    "print(f'Test:')\n",
    "pprint(test_images['groups'].value_counts(normalize=True).round(decimals=2).to_dict())"
   ]
  },
  {
   "cell_type": "code",
   "execution_count": 71,
   "id": "2251c29f-3483-4cec-a045-18ac6bb3e9ea",
   "metadata": {},
   "outputs": [
    {
     "name": "stdout",
     "output_type": "stream",
     "text": [
      "Train:\n",
      "{'left_nref': 11397, 'left_ref': 310, 'right_nref': 1262, 'right_ref': 2747}\n",
      "Validation:\n",
      "{'left_nref': 1267, 'left_ref': 34, 'right_nref': 140, 'right_ref': 306}\n",
      "Test:\n",
      "{'left_nref': 1408, 'left_ref': 3132, 'right_nref': 12766, 'right_ref': 339}\n"
     ]
    }
   ],
   "source": [
    "# Group total samples\n",
    "print(f'Train:')\n",
    "pprint(train_images['groups'].value_counts().round(decimals=2).to_dict())\n",
    "print(f'Validation:')\n",
    "pprint(val_images['groups'].value_counts().round(decimals=2).to_dict())\n",
    "print(f'Test:')\n",
    "pprint(test_images['groups'].value_counts().round(decimals=2).to_dict())"
   ]
  },
  {
   "cell_type": "markdown",
   "id": "c6ab504d-f9be-4d1e-b197-80d9d93257b7",
   "metadata": {},
   "source": [
    "<br>"
   ]
  },
  {
   "cell_type": "markdown",
   "id": "f3648970-1ae0-4419-8fcc-fef0790a0ce3",
   "metadata": {},
   "source": [
    "# Saving outputs splits"
   ]
  },
  {
   "cell_type": "code",
   "execution_count": 72,
   "id": "4307853f-5572-4162-a91e-fd6cebc36515",
   "metadata": {},
   "outputs": [],
   "source": [
    "metadata = df_img_info"
   ]
  },
  {
   "cell_type": "code",
   "execution_count": 73,
   "id": "6d77224b-b1c8-46ea-981f-8b05f7f96ce4",
   "metadata": {},
   "outputs": [],
   "source": [
    "# Transforming to relative image path from the dataset folder\n",
    "metadata['image'] = metadata['image'].str.replace('../datasets/', '', regex=False)"
   ]
  },
  {
   "cell_type": "code",
   "execution_count": 74,
   "id": "836f72d2-d323-44ac-b41e-984bb32fbfc0",
   "metadata": {},
   "outputs": [],
   "source": [
    "metadata['split'] = np.nan"
   ]
  },
  {
   "cell_type": "code",
   "execution_count": 75,
   "id": "d5422d5b-0620-4728-95a1-b58049fee1ed",
   "metadata": {},
   "outputs": [],
   "source": [
    "# Training set\n",
    "metadata.loc[train_images.index, 'split'] = 'train'"
   ]
  },
  {
   "cell_type": "code",
   "execution_count": 76,
   "id": "9f120404-d3b4-41dc-9a7d-580a470cc78c",
   "metadata": {},
   "outputs": [],
   "source": [
    "# Validation set\n",
    "metadata.loc[val_images.index, 'split'] = 'val'"
   ]
  },
  {
   "cell_type": "code",
   "execution_count": 77,
   "id": "4b62097f-f559-464a-b388-e4953a275cab",
   "metadata": {},
   "outputs": [],
   "source": [
    "# Test set\n",
    "metadata.loc[test_images.index, 'split'] = 'test'"
   ]
  },
  {
   "cell_type": "code",
   "execution_count": 78,
   "id": "2f69f1c6-30c5-4350-a458-6a7f68baf748",
   "metadata": {},
   "outputs": [
    {
     "data": {
      "text/html": [
       "<div>\n",
       "<style scoped>\n",
       "    .dataframe tbody tr th:only-of-type {\n",
       "        vertical-align: middle;\n",
       "    }\n",
       "\n",
       "    .dataframe tbody tr th {\n",
       "        vertical-align: top;\n",
       "    }\n",
       "\n",
       "    .dataframe thead th {\n",
       "        text-align: right;\n",
       "    }\n",
       "</style>\n",
       "<table border=\"1\" class=\"dataframe\">\n",
       "  <thead>\n",
       "    <tr style=\"text-align: right;\">\n",
       "      <th></th>\n",
       "      <th>patient_id</th>\n",
       "      <th>side</th>\n",
       "      <th>image</th>\n",
       "      <th>level</th>\n",
       "      <th>level_group</th>\n",
       "      <th>groups</th>\n",
       "      <th>split</th>\n",
       "    </tr>\n",
       "  </thead>\n",
       "  <tbody>\n",
       "    <tr>\n",
       "      <th>0</th>\n",
       "      <td>10</td>\n",
       "      <td>left</td>\n",
       "      <td>0/10_left.jpeg</td>\n",
       "      <td>0</td>\n",
       "      <td>nref</td>\n",
       "      <td>left_nref</td>\n",
       "      <td>val</td>\n",
       "    </tr>\n",
       "    <tr>\n",
       "      <th>1</th>\n",
       "      <td>10</td>\n",
       "      <td>right</td>\n",
       "      <td>0/10_right.jpeg</td>\n",
       "      <td>0</td>\n",
       "      <td>nref</td>\n",
       "      <td>right_nref</td>\n",
       "      <td>test</td>\n",
       "    </tr>\n",
       "    <tr>\n",
       "      <th>2</th>\n",
       "      <td>13</td>\n",
       "      <td>left</td>\n",
       "      <td>0/13_left.jpeg</td>\n",
       "      <td>0</td>\n",
       "      <td>nref</td>\n",
       "      <td>left_nref</td>\n",
       "      <td>train</td>\n",
       "    </tr>\n",
       "    <tr>\n",
       "      <th>3</th>\n",
       "      <td>13</td>\n",
       "      <td>right</td>\n",
       "      <td>0/13_right.jpeg</td>\n",
       "      <td>0</td>\n",
       "      <td>nref</td>\n",
       "      <td>right_nref</td>\n",
       "      <td>test</td>\n",
       "    </tr>\n",
       "    <tr>\n",
       "      <th>4</th>\n",
       "      <td>15</td>\n",
       "      <td>left</td>\n",
       "      <td>1/15_left.jpeg</td>\n",
       "      <td>1</td>\n",
       "      <td>nref</td>\n",
       "      <td>left_nref</td>\n",
       "      <td>test</td>\n",
       "    </tr>\n",
       "    <tr>\n",
       "      <th>...</th>\n",
       "      <td>...</td>\n",
       "      <td>...</td>\n",
       "      <td>...</td>\n",
       "      <td>...</td>\n",
       "      <td>...</td>\n",
       "      <td>...</td>\n",
       "      <td>...</td>\n",
       "    </tr>\n",
       "    <tr>\n",
       "      <th>35103</th>\n",
       "      <td>44347</td>\n",
       "      <td>right</td>\n",
       "      <td>0/44347_right.jpeg</td>\n",
       "      <td>0</td>\n",
       "      <td>nref</td>\n",
       "      <td>right_nref</td>\n",
       "      <td>test</td>\n",
       "    </tr>\n",
       "    <tr>\n",
       "      <th>35104</th>\n",
       "      <td>44348</td>\n",
       "      <td>left</td>\n",
       "      <td>0/44348_left.jpeg</td>\n",
       "      <td>0</td>\n",
       "      <td>nref</td>\n",
       "      <td>left_nref</td>\n",
       "      <td>train</td>\n",
       "    </tr>\n",
       "    <tr>\n",
       "      <th>35105</th>\n",
       "      <td>44348</td>\n",
       "      <td>right</td>\n",
       "      <td>0/44348_right.jpeg</td>\n",
       "      <td>0</td>\n",
       "      <td>nref</td>\n",
       "      <td>right_nref</td>\n",
       "      <td>test</td>\n",
       "    </tr>\n",
       "    <tr>\n",
       "      <th>35106</th>\n",
       "      <td>44349</td>\n",
       "      <td>left</td>\n",
       "      <td>0/44349_left.jpeg</td>\n",
       "      <td>0</td>\n",
       "      <td>nref</td>\n",
       "      <td>left_nref</td>\n",
       "      <td>train</td>\n",
       "    </tr>\n",
       "    <tr>\n",
       "      <th>35107</th>\n",
       "      <td>44349</td>\n",
       "      <td>right</td>\n",
       "      <td>1/44349_right.jpeg</td>\n",
       "      <td>1</td>\n",
       "      <td>nref</td>\n",
       "      <td>right_nref</td>\n",
       "      <td>test</td>\n",
       "    </tr>\n",
       "  </tbody>\n",
       "</table>\n",
       "<p>35108 rows × 7 columns</p>\n",
       "</div>"
      ],
      "text/plain": [
       "      patient_id   side               image  level level_group      groups  \\\n",
       "0             10   left      0/10_left.jpeg      0        nref   left_nref   \n",
       "1             10  right     0/10_right.jpeg      0        nref  right_nref   \n",
       "2             13   left      0/13_left.jpeg      0        nref   left_nref   \n",
       "3             13  right     0/13_right.jpeg      0        nref  right_nref   \n",
       "4             15   left      1/15_left.jpeg      1        nref   left_nref   \n",
       "...          ...    ...                 ...    ...         ...         ...   \n",
       "35103      44347  right  0/44347_right.jpeg      0        nref  right_nref   \n",
       "35104      44348   left   0/44348_left.jpeg      0        nref   left_nref   \n",
       "35105      44348  right  0/44348_right.jpeg      0        nref  right_nref   \n",
       "35106      44349   left   0/44349_left.jpeg      0        nref   left_nref   \n",
       "35107      44349  right  1/44349_right.jpeg      1        nref  right_nref   \n",
       "\n",
       "       split  \n",
       "0        val  \n",
       "1       test  \n",
       "2      train  \n",
       "3       test  \n",
       "4       test  \n",
       "...      ...  \n",
       "35103   test  \n",
       "35104  train  \n",
       "35105   test  \n",
       "35106  train  \n",
       "35107   test  \n",
       "\n",
       "[35108 rows x 7 columns]"
      ]
     },
     "execution_count": 78,
     "metadata": {},
     "output_type": "execute_result"
    }
   ],
   "source": [
    "metadata"
   ]
  },
  {
   "cell_type": "code",
   "execution_count": 79,
   "id": "e3de00a4-09ab-4b84-bb98-a87f2eadd41e",
   "metadata": {},
   "outputs": [],
   "source": [
    "OUTPUT_PATH = os.path.join(IMG_FOLDER, 'metadata.csv')\n",
    "df_img_info.to_csv(OUTPUT_PATH, index=False)"
   ]
  },
  {
   "cell_type": "markdown",
   "id": "5a7e4391-dd51-407b-b3e1-49a40efb76fb",
   "metadata": {},
   "source": [
    "<br>"
   ]
  }
 ],
 "metadata": {
  "kernelspec": {
   "display_name": "Causal DR (tcc)",
   "language": "python",
   "name": "tcc"
  },
  "language_info": {
   "codemirror_mode": {
    "name": "ipython",
    "version": 3
   },
   "file_extension": ".py",
   "mimetype": "text/x-python",
   "name": "python",
   "nbconvert_exporter": "python",
   "pygments_lexer": "ipython3",
   "version": "3.9.13"
  }
 },
 "nbformat": 4,
 "nbformat_minor": 5
}
