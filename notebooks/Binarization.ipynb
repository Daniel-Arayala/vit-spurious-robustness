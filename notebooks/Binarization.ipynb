{
 "cells": [
  {
   "cell_type": "markdown",
   "id": "51eb83aa-0661-48c8-b75c-0345f9b71c4a",
   "metadata": {},
   "source": [
    "# Imports"
   ]
  },
  {
   "cell_type": "code",
   "execution_count": 107,
   "id": "dc0c1238-a2bd-48d4-b085-23a518c81adf",
   "metadata": {},
   "outputs": [],
   "source": [
    "import os \n",
    "import pandas as pd\n",
    "import numpy as np\n",
    "from glob import glob\n",
    "from tqdm.notebook import tqdm\n",
    "from sklearn.model_selection import train_test_split\n",
    "from pprint import pprint\n",
    "import seaborn as sns\n",
    "import matplotlib.pyplot as plt\n",
    "from collections import defaultdict"
   ]
  },
  {
   "cell_type": "markdown",
   "id": "22361b41-76ac-4d33-ac57-c9b8c24fbf1c",
   "metadata": {},
   "source": [
    "<br>"
   ]
  },
  {
   "cell_type": "markdown",
   "id": "96d67574-17af-4ba3-aafc-e2b95aa55fd1",
   "metadata": {},
   "source": [
    "# Explanation"
   ]
  },
  {
   "cell_type": "markdown",
   "id": "010b3cee-3c16-47e0-8874-1e6ff05b0f56",
   "metadata": {},
   "source": [
    "This data splitter will explore the spurious correlation that might arise between right and left eye images for a certain severity level. If the model was trained only on right-eye images with non-referrable severity levels (0 and 1) images and tested on right-eye images with referrable severity levels (2 to 4), there are two possible outcomes. If the model learns the spurious relationship between the side of the eye and the severity it will classify the test samples with lower severity scores. If the model is robust enough to the spurious correlation it will most probably classify the test images correctly regardless of the eye-side bias introduced in the data split."
   ]
  },
  {
   "cell_type": "markdown",
   "id": "e88aaee1-2b97-4f74-98ce-0af809a17468",
   "metadata": {},
   "source": [
    "<br>"
   ]
  },
  {
   "cell_type": "markdown",
   "id": "dcc33a6b-4215-455e-a6f7-c37cb107ce3c",
   "metadata": {},
   "source": [
    "# Common Functions"
   ]
  },
  {
   "cell_type": "code",
   "execution_count": 2,
   "id": "268d5b1a-cbaf-4b2f-8121-43a92b9edc3f",
   "metadata": {},
   "outputs": [],
   "source": [
    "def detect_image_extension(image_folder):\n",
    "    IMG_EXTENSIONS = ('.jpg', '.jpeg', '.png', '.bmp')\n",
    "    image_paths = glob(f'{image_folder}/**/**')\n",
    "    assert len(image_paths), 'The images folder is empty! Please correct the folder path.'\n",
    "    extension = os.path.splitext(image_paths[0])[-1]\n",
    "    assert extension in IMG_EXTENSIONS, 'The images folder must only contain images files with consistent format.'\n",
    "    return extension"
   ]
  },
  {
   "cell_type": "markdown",
   "id": "d95cdc00-0744-4bd4-a93b-33e8befdab99",
   "metadata": {},
   "source": [
    "<br>"
   ]
  },
  {
   "cell_type": "markdown",
   "id": "d683671f-53ab-4cdf-8a8b-f719dee7cdc0",
   "metadata": {},
   "source": [
    "# Definitions"
   ]
  },
  {
   "cell_type": "code",
   "execution_count": 3,
   "id": "0d63274a-a2af-4e1a-b2be-edde2f691735",
   "metadata": {},
   "outputs": [],
   "source": [
    "# Path to image folder\n",
    "IMG_FOLDER = '../datasets/eyepacs/'\n",
    "# Path to the file containing the image labels\n",
    "IMG_LABELS_FILE = '../datasets/eyepacs/labels_filt.csv'\n",
    "IMAGE_EXT = detect_image_extension(IMG_FOLDER)\n",
    "SEED = 100"
   ]
  },
  {
   "cell_type": "code",
   "execution_count": 4,
   "id": "97c402f4-b431-44d8-b95a-dedbd5b2df9d",
   "metadata": {},
   "outputs": [],
   "source": [
    "def get_dataset_with_metadata(df):\n",
    "    df_img_info = df.copy()\n",
    "    # Separates the patient ID from the eye-side information\n",
    "    image_name_info = df_img_info['image'].str.split('_', expand=True)\n",
    "    image_name_info.columns = ['patient_id', 'side']\n",
    "    df_img_info = pd.concat([image_name_info, df_img_info], axis=1)\n",
    "    df_img_info['image']  = df_img_info['level'].astype('str') + '/' + df_img_info['image'] + IMAGE_EXT\n",
    "    # Referrable and non-referrable levels\n",
    "    df_img_info['level_group'] = df_img_info['level'].map(lambda val: 'nref' if val <= 1 else 'ref')\n",
    "    df_img_info['groups'] = df_img_info['side'] + '_' + df_img_info['level_group']\n",
    "    return df_img_info"
   ]
  },
  {
   "cell_type": "markdown",
   "id": "d1dbb339-e13b-4be0-a90f-6ce68078c357",
   "metadata": {},
   "source": [
    "<br>"
   ]
  },
  {
   "cell_type": "markdown",
   "id": "37959ccb-522b-4d27-a1de-d512eeb7ac82",
   "metadata": {},
   "source": [
    "## Preparing useful informationm"
   ]
  },
  {
   "cell_type": "code",
   "execution_count": 5,
   "id": "d90353b4-ce25-4c54-845d-9f82805abdbf",
   "metadata": {},
   "outputs": [],
   "source": [
    "# Reading the labels data\n",
    "df_labels = pd.read_csv(IMG_LABELS_FILE)\n",
    "df_labels = df_labels[['image', 'level']]\n",
    "# The image info will gather the useful information for splitting\n",
    "df_img_info = get_dataset_with_metadata(df_labels)"
   ]
  },
  {
   "cell_type": "code",
   "execution_count": 8,
   "id": "7831a892-bc19-469f-9d31-3c8d40bf5cdd",
   "metadata": {},
   "outputs": [
    {
     "data": {
      "text/plain": [
       "(86922, 6)"
      ]
     },
     "execution_count": 8,
     "metadata": {},
     "output_type": "execute_result"
    }
   ],
   "source": [
    "df_img_info.shape"
   ]
  },
  {
   "cell_type": "markdown",
   "id": "0d419dd6-4588-4597-9b5f-26be1c5bb4c6",
   "metadata": {},
   "source": [
    "# Creating Binary classes from Multiclass"
   ]
  },
  {
   "cell_type": "code",
   "execution_count": 13,
   "id": "c8a41000-d671-4520-8e30-1b3beaf4c772",
   "metadata": {},
   "outputs": [],
   "source": [
    "df_img_info.level = df_img_info.level.transform(lambda severity: int(severity >= 2))"
   ]
  },
  {
   "cell_type": "code",
   "execution_count": 15,
   "id": "21fdaea2-20ba-4e79-b1d3-6e7fbd2fdba4",
   "metadata": {},
   "outputs": [
    {
     "data": {
      "text/plain": [
       "0    70121\n",
       "1    16801\n",
       "Name: level, dtype: int64"
      ]
     },
     "execution_count": 15,
     "metadata": {},
     "output_type": "execute_result"
    }
   ],
   "source": [
    "df_img_info['level'].value_counts()"
   ]
  },
  {
   "cell_type": "markdown",
   "id": "e2a1c159-bf3c-4187-a75d-154748427dba",
   "metadata": {
    "tags": []
   },
   "source": [
    "# Handling Data Imbalance"
   ]
  },
  {
   "cell_type": "code",
   "execution_count": 16,
   "id": "168834ea-8457-42ef-97b5-069e0b8c8005",
   "metadata": {},
   "outputs": [],
   "source": [
    "label_count = df_img_info['level'].value_counts()"
   ]
  },
  {
   "cell_type": "code",
   "execution_count": 17,
   "id": "dfd59c40-4abb-423f-ab85-cdb84d1ddd0f",
   "metadata": {},
   "outputs": [
    {
     "data": {
      "image/png": "[encoded data removed]",
      "text/plain": [
       "<Figure size 640x480 with 1 Axes>"
      ]
     },
     "metadata": {},
     "output_type": "display_data"
    }
   ],
   "source": [
    "#fig, axes = plt.subplots(nrows=1, ncols=2)\n",
    "plt.figure()\n",
    "countplot = sns.countplot(y=df_img_info['level'], order=label_count.index)\n",
    "countplot.bar_label(countplot.containers[0], padding=2)\n",
    "plt.title('Severity Level Count')\n",
    "plt.xlabel('Number of Samples')\n",
    "plt.xlim(0, label_count.iloc[0] + 15e3)\n",
    "plt.ylabel('Severity')\n",
    "plt.show()"
   ]
  },
  {
   "cell_type": "markdown",
   "id": "560c65f4-dd86-404f-ade3-a30908f3739a",
   "metadata": {},
   "source": [
    "## Grouping by Order"
   ]
  },
  {
   "cell_type": "code",
   "execution_count": 18,
   "id": "0d259e31-cf76-4cdb-a3a6-5421562a2ffe",
   "metadata": {},
   "outputs": [],
   "source": [
    "# fifth biggest number of samples\n",
    "base_severity = 1"
   ]
  },
  {
   "cell_type": "code",
   "execution_count": 19,
   "id": "7e8b50a5-b185-4840-ad6e-75d0ffe731da",
   "metadata": {},
   "outputs": [],
   "source": [
    "order_counts = label_count.iloc[base_severity]"
   ]
  },
  {
   "cell_type": "code",
   "execution_count": 20,
   "id": "c7bd6f50-de5f-463a-bf05-2f7b7d767d54",
   "metadata": {},
   "outputs": [],
   "source": [
    "left_severity_count = len(df_img_info.query(f'(side == \"left\") and level == {base_severity}'))"
   ]
  },
  {
   "cell_type": "code",
   "execution_count": 21,
   "id": "aec57633-59e6-4667-9d81-58560851c9ae",
   "metadata": {},
   "outputs": [],
   "source": [
    "right_severity_count = len(df_img_info.query(f'(side == \"right\") and level == {base_severity}'))"
   ]
  },
  {
   "cell_type": "code",
   "execution_count": 22,
   "id": "fd34d236-497c-41c2-94b9-1816a5fe4843",
   "metadata": {},
   "outputs": [],
   "source": [
    "if left_severity_count <= right_severity_count:\n",
    "    num_samples_side = left_severity_count\n",
    "else:\n",
    "    num_samples_side = right_severity_count"
   ]
  },
  {
   "cell_type": "code",
   "execution_count": 24,
   "id": "be3d6a47-2db8-49ee-9161-49762fc74535",
   "metadata": {},
   "outputs": [],
   "source": [
    "df_img_info_binary_balanced = df_img_info.groupby(['level', 'side']) \\\n",
    "                                         .sample(num_samples_side, \n",
    "                                                 replace=False, random_state=100)"
   ]
  },
  {
   "cell_type": "code",
   "execution_count": 25,
   "id": "ab38077c-f1d6-45af-88f2-6b4c076e64ee",
   "metadata": {},
   "outputs": [
    {
     "data": {
      "text/html": [
       "<div>\n",
       "<style scoped>\n",
       "    .dataframe tbody tr th:only-of-type {\n",
       "        vertical-align: middle;\n",
       "    }\n",
       "\n",
       "    .dataframe tbody tr th {\n",
       "        vertical-align: top;\n",
       "    }\n",
       "\n",
       "    .dataframe thead th {\n",
       "        text-align: right;\n",
       "    }\n",
       "</style>\n",
       "<table border=\"1\" class=\"dataframe\">\n",
       "  <thead>\n",
       "    <tr style=\"text-align: right;\">\n",
       "      <th></th>\n",
       "      <th>patient_id</th>\n",
       "      <th>side</th>\n",
       "      <th>image</th>\n",
       "      <th>level</th>\n",
       "      <th>level_group</th>\n",
       "      <th>groups</th>\n",
       "    </tr>\n",
       "  </thead>\n",
       "  <tbody>\n",
       "    <tr>\n",
       "      <th>20494</th>\n",
       "      <td>11138</td>\n",
       "      <td>left</td>\n",
       "      <td>0/11138_left.jpeg</td>\n",
       "      <td>0</td>\n",
       "      <td>nref</td>\n",
       "      <td>left_nref</td>\n",
       "    </tr>\n",
       "    <tr>\n",
       "      <th>41090</th>\n",
       "      <td>21436</td>\n",
       "      <td>left</td>\n",
       "      <td>0/21436_left.jpeg</td>\n",
       "      <td>0</td>\n",
       "      <td>nref</td>\n",
       "      <td>left_nref</td>\n",
       "    </tr>\n",
       "    <tr>\n",
       "      <th>5968</th>\n",
       "      <td>3073</td>\n",
       "      <td>left</td>\n",
       "      <td>0/3073_left.jpeg</td>\n",
       "      <td>0</td>\n",
       "      <td>nref</td>\n",
       "      <td>left_nref</td>\n",
       "    </tr>\n",
       "    <tr>\n",
       "      <th>12180</th>\n",
       "      <td>6179</td>\n",
       "      <td>left</td>\n",
       "      <td>0/6179_left.jpeg</td>\n",
       "      <td>0</td>\n",
       "      <td>nref</td>\n",
       "      <td>left_nref</td>\n",
       "    </tr>\n",
       "    <tr>\n",
       "      <th>35094</th>\n",
       "      <td>18438</td>\n",
       "      <td>left</td>\n",
       "      <td>0/18438_left.jpeg</td>\n",
       "      <td>0</td>\n",
       "      <td>nref</td>\n",
       "      <td>left_nref</td>\n",
       "    </tr>\n",
       "    <tr>\n",
       "      <th>...</th>\n",
       "      <td>...</td>\n",
       "      <td>...</td>\n",
       "      <td>...</td>\n",
       "      <td>...</td>\n",
       "      <td>...</td>\n",
       "      <td>...</td>\n",
       "    </tr>\n",
       "    <tr>\n",
       "      <th>79217</th>\n",
       "      <td>40499</td>\n",
       "      <td>right</td>\n",
       "      <td>2/40499_right.jpeg</td>\n",
       "      <td>1</td>\n",
       "      <td>ref</td>\n",
       "      <td>right_ref</td>\n",
       "    </tr>\n",
       "    <tr>\n",
       "      <th>38331</th>\n",
       "      <td>20056</td>\n",
       "      <td>right</td>\n",
       "      <td>2/20056_right.jpeg</td>\n",
       "      <td>1</td>\n",
       "      <td>ref</td>\n",
       "      <td>right_ref</td>\n",
       "    </tr>\n",
       "    <tr>\n",
       "      <th>56855</th>\n",
       "      <td>29318</td>\n",
       "      <td>right</td>\n",
       "      <td>4/29318_right.jpeg</td>\n",
       "      <td>1</td>\n",
       "      <td>ref</td>\n",
       "      <td>right_ref</td>\n",
       "    </tr>\n",
       "    <tr>\n",
       "      <th>14233</th>\n",
       "      <td>7205</td>\n",
       "      <td>right</td>\n",
       "      <td>2/7205_right.jpeg</td>\n",
       "      <td>1</td>\n",
       "      <td>ref</td>\n",
       "      <td>right_ref</td>\n",
       "    </tr>\n",
       "    <tr>\n",
       "      <th>7071</th>\n",
       "      <td>3624</td>\n",
       "      <td>right</td>\n",
       "      <td>2/3624_right.jpeg</td>\n",
       "      <td>1</td>\n",
       "      <td>ref</td>\n",
       "      <td>right_ref</td>\n",
       "    </tr>\n",
       "  </tbody>\n",
       "</table>\n",
       "<p>33316 rows × 6 columns</p>\n",
       "</div>"
      ],
      "text/plain": [
       "      patient_id   side               image  level level_group     groups\n",
       "20494      11138   left   0/11138_left.jpeg      0        nref  left_nref\n",
       "41090      21436   left   0/21436_left.jpeg      0        nref  left_nref\n",
       "5968        3073   left    0/3073_left.jpeg      0        nref  left_nref\n",
       "12180       6179   left    0/6179_left.jpeg      0        nref  left_nref\n",
       "35094      18438   left   0/18438_left.jpeg      0        nref  left_nref\n",
       "...          ...    ...                 ...    ...         ...        ...\n",
       "79217      40499  right  2/40499_right.jpeg      1         ref  right_ref\n",
       "38331      20056  right  2/20056_right.jpeg      1         ref  right_ref\n",
       "56855      29318  right  4/29318_right.jpeg      1         ref  right_ref\n",
       "14233       7205  right   2/7205_right.jpeg      1         ref  right_ref\n",
       "7071        3624  right   2/3624_right.jpeg      1         ref  right_ref\n",
       "\n",
       "[33316 rows x 6 columns]"
      ]
     },
     "execution_count": 25,
     "metadata": {},
     "output_type": "execute_result"
    }
   ],
   "source": [
    "df_img_info_binary_balanced"
   ]
  },
  {
   "cell_type": "markdown",
   "id": "9ef094ba-9bc7-48e1-93f9-9cc2bb0096b6",
   "metadata": {},
   "source": [
    "# Saving Exceeded indexes"
   ]
  },
  {
   "cell_type": "code",
   "execution_count": 28,
   "id": "95454fc7-ec18-4cfb-a1a5-483719077074",
   "metadata": {},
   "outputs": [],
   "source": [
    "exceeded_indexes = df_img_info.index.difference(df_img_info_binary_balanced.index)\n",
    "df_exceeded = df_img_info.loc[exceeded_indexes]"
   ]
  },
  {
   "cell_type": "code",
   "execution_count": 29,
   "id": "2c2cbcc3-b0fb-4ba4-b0f0-205677faafa7",
   "metadata": {},
   "outputs": [],
   "source": [
    "df_exceeded.to_csv('../datasets/eyepacs/metadata_exceeded_binarization.csv')"
   ]
  },
  {
   "cell_type": "markdown",
   "id": "09eddd40-b7f1-4a26-8268-086d7eba9f9d",
   "metadata": {},
   "source": [
    "## Balanced Graph"
   ]
  },
  {
   "cell_type": "code",
   "execution_count": 31,
   "id": "e40fca56-78d0-4bbe-bd64-4ddf6627492a",
   "metadata": {},
   "outputs": [
    {
     "data": {
      "image/png": "[encoded data removed]",
      "text/plain": [
       "<Figure size 640x480 with 1 Axes>"
      ]
     },
     "metadata": {},
     "output_type": "display_data"
    }
   ],
   "source": [
    "#plt.figure(figsize=(8,6))\n",
    "sns.countplot(data=df_img_info_binary_balanced, x='level', hue='side')\n",
    "plt.title('Distribuição após Balanceamento de Classes')\n",
    "plt.xlabel('Número de Amostras')\n",
    "plt.legend(loc='lower right', labels=['Olho Esquerdo', 'Olho Direito'])\n",
    "plt.ylabel('Severidade')\n",
    "plt.show()"
   ]
  },
  {
   "cell_type": "code",
   "execution_count": 32,
   "id": "53934dbd-0938-4bbe-88d7-319cb7df74c5",
   "metadata": {},
   "outputs": [
    {
     "data": {
      "text/html": [
       "<div>\n",
       "<style scoped>\n",
       "    .dataframe tbody tr th:only-of-type {\n",
       "        vertical-align: middle;\n",
       "    }\n",
       "\n",
       "    .dataframe tbody tr th {\n",
       "        vertical-align: top;\n",
       "    }\n",
       "\n",
       "    .dataframe thead th {\n",
       "        text-align: right;\n",
       "    }\n",
       "</style>\n",
       "<table border=\"1\" class=\"dataframe\">\n",
       "  <thead>\n",
       "    <tr style=\"text-align: right;\">\n",
       "      <th></th>\n",
       "      <th>patient_id</th>\n",
       "      <th>side</th>\n",
       "      <th>image</th>\n",
       "      <th>level</th>\n",
       "      <th>level_group</th>\n",
       "      <th>groups</th>\n",
       "    </tr>\n",
       "  </thead>\n",
       "  <tbody>\n",
       "    <tr>\n",
       "      <th>20494</th>\n",
       "      <td>11138</td>\n",
       "      <td>left</td>\n",
       "      <td>0/11138_left.jpeg</td>\n",
       "      <td>0</td>\n",
       "      <td>nref</td>\n",
       "      <td>left_nref</td>\n",
       "    </tr>\n",
       "    <tr>\n",
       "      <th>41090</th>\n",
       "      <td>21436</td>\n",
       "      <td>left</td>\n",
       "      <td>0/21436_left.jpeg</td>\n",
       "      <td>0</td>\n",
       "      <td>nref</td>\n",
       "      <td>left_nref</td>\n",
       "    </tr>\n",
       "    <tr>\n",
       "      <th>5968</th>\n",
       "      <td>3073</td>\n",
       "      <td>left</td>\n",
       "      <td>0/3073_left.jpeg</td>\n",
       "      <td>0</td>\n",
       "      <td>nref</td>\n",
       "      <td>left_nref</td>\n",
       "    </tr>\n",
       "    <tr>\n",
       "      <th>12180</th>\n",
       "      <td>6179</td>\n",
       "      <td>left</td>\n",
       "      <td>0/6179_left.jpeg</td>\n",
       "      <td>0</td>\n",
       "      <td>nref</td>\n",
       "      <td>left_nref</td>\n",
       "    </tr>\n",
       "    <tr>\n",
       "      <th>35094</th>\n",
       "      <td>18438</td>\n",
       "      <td>left</td>\n",
       "      <td>0/18438_left.jpeg</td>\n",
       "      <td>0</td>\n",
       "      <td>nref</td>\n",
       "      <td>left_nref</td>\n",
       "    </tr>\n",
       "  </tbody>\n",
       "</table>\n",
       "</div>"
      ],
      "text/plain": [
       "      patient_id  side              image  level level_group     groups\n",
       "20494      11138  left  0/11138_left.jpeg      0        nref  left_nref\n",
       "41090      21436  left  0/21436_left.jpeg      0        nref  left_nref\n",
       "5968        3073  left   0/3073_left.jpeg      0        nref  left_nref\n",
       "12180       6179  left   0/6179_left.jpeg      0        nref  left_nref\n",
       "35094      18438  left  0/18438_left.jpeg      0        nref  left_nref"
      ]
     },
     "execution_count": 32,
     "metadata": {},
     "output_type": "execute_result"
    }
   ],
   "source": [
    "df_img_info_binary_balanced.head()"
   ]
  },
  {
   "cell_type": "markdown",
   "id": "41e1d365-b6f1-4ffe-9c74-2f62d537855a",
   "metadata": {},
   "source": [
    "# Parameters"
   ]
  },
  {
   "cell_type": "code",
   "execution_count": 108,
   "id": "5fb57f24-2695-4065-b629-986cbc80b0b6",
   "metadata": {},
   "outputs": [],
   "source": [
    "GROUPS = set(['left_nref', 'right_ref', 'left_ref', 'right_nref'])"
   ]
  },
  {
   "cell_type": "code",
   "execution_count": 109,
   "id": "9860dde4-252c-4769-a534-b1ed6f02e2dc",
   "metadata": {},
   "outputs": [],
   "source": [
    "#[Train, Val, Test]\n",
    "DATA_SPLIT = [0.8, 0.1, 0.1]"
   ]
  },
  {
   "cell_type": "code",
   "execution_count": 110,
   "id": "93c2be5f-282b-40e7-9ced-b2306d02e02b",
   "metadata": {},
   "outputs": [],
   "source": [
    "MAJORITY_TRAIN_GROUPS = {'left_nref', 'right_ref'}\n",
    "MINORITY_TRAIN_GROUPS = GROUPS.difference(MAJORITY_TRAIN_GROUPS)\n",
    "TRAIN_SIZE = 0.9\n",
    "MAJORITY_PROPORTION = 0.9\n",
    "VAL_PCT_FROM_TRAIN = 0.1"
   ]
  },
  {
   "cell_type": "markdown",
   "id": "fd02e3d6-e962-4365-b398-096c8bfa5263",
   "metadata": {},
   "source": [
    "# Balanced Baseline Splitting"
   ]
  },
  {
   "cell_type": "code",
   "execution_count": 111,
   "id": "ec61cf54-9348-4ea2-a925-445dc918afd9",
   "metadata": {},
   "outputs": [],
   "source": [
    "df_balanced_train_val, df_balanced_test = train_test_split(\n",
    "    df_img_info_binary_balanced, \n",
    "    train_size=TRAIN_SIZE, \n",
    "    stratify=df_img_info_binary_balanced['level'],\n",
    "    random_state=100)"
   ]
  },
  {
   "cell_type": "code",
   "execution_count": 112,
   "id": "6f7175e9-dae5-48da-b0ff-deac3cffc64a",
   "metadata": {},
   "outputs": [],
   "source": [
    "df_balanced_train, df_balanced_val = train_test_split(\n",
    "    df_balanced_train_val, \n",
    "    test_size=VAL_PCT_FROM_TRAIN, \n",
    "    stratify=df_balanced_train_val['level'],\n",
    "    random_state=100)"
   ]
  },
  {
   "cell_type": "code",
   "execution_count": 113,
   "id": "c8b9cecc-4791-48b6-8b1e-723c419c4340",
   "metadata": {},
   "outputs": [
    {
     "name": "stdout",
     "output_type": "stream",
     "text": [
      "Train:\n",
      "- Number of samples: 26985\n",
      "- Percentage from Original: 0.81\n",
      "\n",
      "Validation:\n",
      "- Number of samples: 2999\n",
      "- Percentage from Original: 0.09\n",
      "\n",
      "Test:\n",
      "- Number of samples: 3332\n",
      "- Percentage from Original: 0.1\n"
     ]
    }
   ],
   "source": [
    "print(('Train:'\n",
    "      f'\\n- Number of samples: {len(df_balanced_train)}'\n",
    "      f'\\n- Percentage from Original: {round(len(df_balanced_train)/len(df_img_info_binary_balanced), 2)}'))\n",
    "print(('\\nValidation:'\n",
    "      f'\\n- Number of samples: {len(df_balanced_val)}'\n",
    "      f'\\n- Percentage from Original: {round(len(df_balanced_val)/len(df_img_info_binary_balanced), 2)}'))\n",
    "print(('\\nTest:'\n",
    "      f'\\n- Number of samples: {len(df_balanced_test)}'\n",
    "      f'\\n- Percentage from Original: {round(len(df_balanced_test)/len(df_img_info_binary_balanced), 2)}'))\n"
   ]
  },
  {
   "cell_type": "code",
   "execution_count": 114,
   "id": "3f7dea7d-fb66-4478-b19d-fb37151cd62a",
   "metadata": {},
   "outputs": [],
   "source": [
    "# Balanced training\n",
    "df_balanced_baseline = df_img_info_binary_balanced"
   ]
  },
  {
   "cell_type": "code",
   "execution_count": 58,
   "id": "11264311-f4be-4030-9d44-b5e78692930c",
   "metadata": {},
   "outputs": [],
   "source": [
    "# Train\n",
    "df_balanced_baseline.loc[df_balanced_baseline.index.isin(df_balanced_train.index), 'split'] = 'train'\n",
    "# Validation\n",
    "df_balanced_baseline.loc[df_balanced_baseline.index.isin(df_balanced_val.index), 'split'] = 'val'\n",
    "# Test\n",
    "df_balanced_baseline.loc[df_balanced_baseline.index.isin(df_balanced_test.index), 'split'] = 'test'"
   ]
  },
  {
   "cell_type": "code",
   "execution_count": 59,
   "id": "890ce74c-6782-4fcb-aabd-c2bdb60421b2",
   "metadata": {},
   "outputs": [],
   "source": [
    "df_balanced_baseline.to_csv(os.path.join(IMG_FOLDER, 'metadata_binary_balanced_baseline.csv'), index=False)"
   ]
  },
  {
   "cell_type": "markdown",
   "id": "cf5eb55e-4358-4eff-b25c-00abdffea262",
   "metadata": {},
   "source": [
    "# Spurious Splitting"
   ]
  },
  {
   "cell_type": "code",
   "execution_count": 209,
   "id": "40769392-d99e-431f-8f27-50705fef510e",
   "metadata": {},
   "outputs": [],
   "source": [
    "def get_new_nsamples(df_spurious_split):\n",
    "    majority_groups_samples = df_spurious_split.loc[df_spurious_split['groups'].isin(MAJORITY_TRAIN_GROUPS), 'n_samples']\n",
    "    majority_min_index, majority_min_value = majority_groups_samples.idxmin(), majority_groups_samples.min()\n",
    "    return round(majority_min_value / df_spurious_split.loc[majority_min_index, 'pct_samples'])"
   ]
  },
  {
   "cell_type": "code",
   "execution_count": 211,
   "id": "cc6aaa61-e882-40a4-9729-90893898ba39",
   "metadata": {},
   "outputs": [],
   "source": [
    "def calculate_new_samples(row, new_num_samples):\n",
    "    if row.name != 1:\n",
    "        return round(row.pct_samples*new_num_samples)\n",
    "    else:\n",
    "        return row.n_samples"
   ]
  },
  {
   "cell_type": "code",
   "execution_count": 122,
   "id": "7c278043-2fab-44ea-9242-10a606457ee5",
   "metadata": {},
   "outputs": [],
   "source": [
    "num_samples_train = len(df_balanced_train)\n",
    "num_samples_majority_train = int(num_samples_train*MAJORITY_PROPORTION)\n",
    "\n",
    "majority_group_pct = round(MAJORITY_PROPORTION / len(MAJORITY_TRAIN_GROUPS), 2)\n",
    "\n",
    "minorty_group_pct = round((1 - MAJORITY_PROPORTION) / len(MINORITY_TRAIN_GROUPS), 2)\n",
    "\n",
    "pct_distribution = [*([majority_group_pct]*len(MAJORITY_TRAIN_GROUPS)), *([minorty_group_pct]*len(MINORITY_TRAIN_GROUPS))]\n",
    "\n",
    "ordered_groups = [*list(MAJORITY_TRAIN_GROUPS), *list(MINORITY_TRAIN_GROUPS)]\n",
    "\n",
    "dist_spurious_train = pd.DataFrame(zip(ordered_groups, pct_distribution), columns=['groups', 'pct_samples'])\n",
    "\n",
    "\n",
    "#dist_train_samples['n_samples'] = dist_train_samples['pct_samples'] /   ).round()"
   ]
  },
  {
   "cell_type": "code",
   "execution_count": 216,
   "id": "0c5b7487-cda6-417b-99a5-60cccac57ebf",
   "metadata": {},
   "outputs": [],
   "source": [
    "# Train\n",
    "group_counts_train = df_balanced_train.groupby('groups')['patient_id'].count()\n",
    "group_counts_train.name='n_samples'\n",
    "group_counts_train = group_counts_train.reset_index()\n",
    "df_spurious_split_train = pd.merge(dist_spurious_train, group_counts_train, on='groups')\n",
    "new_num_samples_train = get_new_nsamples(df_spurious_split_train)\n",
    "df_spurious_split_train['n_samples'] = df_spurious_split_train.apply(calculate_new_samples, args=(new_num_samples_train,), axis=1)"
   ]
  },
  {
   "cell_type": "code",
   "execution_count": 217,
   "id": "7232d1a7-358b-4191-b03a-f0071723ef77",
   "metadata": {},
   "outputs": [
    {
     "data": {
      "text/html": [
       "<div>\n",
       "<style scoped>\n",
       "    .dataframe tbody tr th:only-of-type {\n",
       "        vertical-align: middle;\n",
       "    }\n",
       "\n",
       "    .dataframe tbody tr th {\n",
       "        vertical-align: top;\n",
       "    }\n",
       "\n",
       "    .dataframe thead th {\n",
       "        text-align: right;\n",
       "    }\n",
       "</style>\n",
       "<table border=\"1\" class=\"dataframe\">\n",
       "  <thead>\n",
       "    <tr style=\"text-align: right;\">\n",
       "      <th></th>\n",
       "      <th>groups</th>\n",
       "      <th>pct_samples</th>\n",
       "      <th>n_samples</th>\n",
       "    </tr>\n",
       "  </thead>\n",
       "  <tbody>\n",
       "    <tr>\n",
       "      <th>0</th>\n",
       "      <td>right_ref</td>\n",
       "      <td>0.45</td>\n",
       "      <td>6697</td>\n",
       "    </tr>\n",
       "    <tr>\n",
       "      <th>1</th>\n",
       "      <td>left_nref</td>\n",
       "      <td>0.45</td>\n",
       "      <td>6697</td>\n",
       "    </tr>\n",
       "    <tr>\n",
       "      <th>2</th>\n",
       "      <td>left_ref</td>\n",
       "      <td>0.05</td>\n",
       "      <td>744</td>\n",
       "    </tr>\n",
       "    <tr>\n",
       "      <th>3</th>\n",
       "      <td>right_nref</td>\n",
       "      <td>0.05</td>\n",
       "      <td>744</td>\n",
       "    </tr>\n",
       "  </tbody>\n",
       "</table>\n",
       "</div>"
      ],
      "text/plain": [
       "       groups  pct_samples  n_samples\n",
       "0   right_ref         0.45       6697\n",
       "1   left_nref         0.45       6697\n",
       "2    left_ref         0.05        744\n",
       "3  right_nref         0.05        744"
      ]
     },
     "execution_count": 217,
     "metadata": {},
     "output_type": "execute_result"
    }
   ],
   "source": [
    "df_spurious_split_train"
   ]
  },
  {
   "cell_type": "code",
   "execution_count": 218,
   "id": "34277eef-d02f-4218-8b9a-1cbb84bc1b47",
   "metadata": {},
   "outputs": [],
   "source": [
    "# Val\n",
    "group_counts_val = df_balanced_val.groupby('groups')['patient_id'].count()\n",
    "group_counts_val.name='n_samples'\n",
    "group_counts_val = group_counts_val.reset_index()\n",
    "df_spurious_split_val = pd.merge(dist_spurious_train, group_counts_val, on='groups')\n",
    "new_num_samples_val = get_new_nsamples(df_spurious_split_val)\n",
    "df_spurious_split_val['n_samples'] = df_spurious_split_val.apply(calculate_new_samples, args=(new_num_samples_val,), axis=1)"
   ]
  },
  {
   "cell_type": "code",
   "execution_count": 219,
   "id": "26a0686b-f263-45e1-b07f-783b33f0e0dd",
   "metadata": {},
   "outputs": [
    {
     "data": {
      "text/html": [
       "<div>\n",
       "<style scoped>\n",
       "    .dataframe tbody tr th:only-of-type {\n",
       "        vertical-align: middle;\n",
       "    }\n",
       "\n",
       "    .dataframe tbody tr th {\n",
       "        vertical-align: top;\n",
       "    }\n",
       "\n",
       "    .dataframe thead th {\n",
       "        text-align: right;\n",
       "    }\n",
       "</style>\n",
       "<table border=\"1\" class=\"dataframe\">\n",
       "  <thead>\n",
       "    <tr style=\"text-align: right;\">\n",
       "      <th></th>\n",
       "      <th>groups</th>\n",
       "      <th>pct_samples</th>\n",
       "      <th>n_samples</th>\n",
       "    </tr>\n",
       "  </thead>\n",
       "  <tbody>\n",
       "    <tr>\n",
       "      <th>0</th>\n",
       "      <td>right_ref</td>\n",
       "      <td>0.45</td>\n",
       "      <td>718</td>\n",
       "    </tr>\n",
       "    <tr>\n",
       "      <th>1</th>\n",
       "      <td>left_nref</td>\n",
       "      <td>0.45</td>\n",
       "      <td>779</td>\n",
       "    </tr>\n",
       "    <tr>\n",
       "      <th>2</th>\n",
       "      <td>left_ref</td>\n",
       "      <td>0.05</td>\n",
       "      <td>80</td>\n",
       "    </tr>\n",
       "    <tr>\n",
       "      <th>3</th>\n",
       "      <td>right_nref</td>\n",
       "      <td>0.05</td>\n",
       "      <td>80</td>\n",
       "    </tr>\n",
       "  </tbody>\n",
       "</table>\n",
       "</div>"
      ],
      "text/plain": [
       "       groups  pct_samples  n_samples\n",
       "0   right_ref         0.45        718\n",
       "1   left_nref         0.45        779\n",
       "2    left_ref         0.05         80\n",
       "3  right_nref         0.05         80"
      ]
     },
     "execution_count": 219,
     "metadata": {},
     "output_type": "execute_result"
    }
   ],
   "source": [
    "df_spurious_split_val"
   ]
  },
  {
   "cell_type": "markdown",
   "id": "26525f32-8c25-42bc-b93a-2a50333ec4fc",
   "metadata": {},
   "source": [
    "## Applying spurious split"
   ]
  },
  {
   "cell_type": "code",
   "execution_count": 235,
   "id": "511a8e0c-11c3-4493-8250-201ac94140ec",
   "metadata": {},
   "outputs": [],
   "source": [
    "def create_spurious_partition(df_balanced, spurious_split_info, partition='train'):\n",
    "    # Saves new partitions for groups: left_ref, left_nref, right_ref, right_nref\n",
    "    spurious_split_groups = []\n",
    "    df_balanced_groupby = df_balanced.groupby('groups')\n",
    "    print(f'Creating spurious group partitioning for: {partition}')\n",
    "    for group in spurious_split_info.itertuples():\n",
    "        print(f'Partitioning group: {group.groups}')\n",
    "        df_group = df_balanced_groupby.get_group(group.groups)\n",
    "        spurious_partition_group = df_group.sample(group.n_samples, replace=False)\n",
    "        spurious_split_groups.append(spurious_partition_group)\n",
    "    return pd.concat(spurious_split_groups, axis=0, sort=False)"
   ]
  },
  {
   "cell_type": "code",
   "execution_count": 228,
   "id": "f8188d0d-5729-485b-88d5-35fa89103f6b",
   "metadata": {},
   "outputs": [
    {
     "data": {
      "text/html": [
       "<div>\n",
       "<style scoped>\n",
       "    .dataframe tbody tr th:only-of-type {\n",
       "        vertical-align: middle;\n",
       "    }\n",
       "\n",
       "    .dataframe tbody tr th {\n",
       "        vertical-align: top;\n",
       "    }\n",
       "\n",
       "    .dataframe thead th {\n",
       "        text-align: right;\n",
       "    }\n",
       "</style>\n",
       "<table border=\"1\" class=\"dataframe\">\n",
       "  <thead>\n",
       "    <tr style=\"text-align: right;\">\n",
       "      <th></th>\n",
       "      <th>groups</th>\n",
       "      <th>pct_samples</th>\n",
       "      <th>n_samples</th>\n",
       "    </tr>\n",
       "  </thead>\n",
       "  <tbody>\n",
       "    <tr>\n",
       "      <th>0</th>\n",
       "      <td>right_ref</td>\n",
       "      <td>0.45</td>\n",
       "      <td>6697</td>\n",
       "    </tr>\n",
       "    <tr>\n",
       "      <th>1</th>\n",
       "      <td>left_nref</td>\n",
       "      <td>0.45</td>\n",
       "      <td>6697</td>\n",
       "    </tr>\n",
       "    <tr>\n",
       "      <th>2</th>\n",
       "      <td>left_ref</td>\n",
       "      <td>0.05</td>\n",
       "      <td>744</td>\n",
       "    </tr>\n",
       "    <tr>\n",
       "      <th>3</th>\n",
       "      <td>right_nref</td>\n",
       "      <td>0.05</td>\n",
       "      <td>744</td>\n",
       "    </tr>\n",
       "  </tbody>\n",
       "</table>\n",
       "</div>"
      ],
      "text/plain": [
       "       groups  pct_samples  n_samples\n",
       "0   right_ref         0.45       6697\n",
       "1   left_nref         0.45       6697\n",
       "2    left_ref         0.05        744\n",
       "3  right_nref         0.05        744"
      ]
     },
     "execution_count": 228,
     "metadata": {},
     "output_type": "execute_result"
    }
   ],
   "source": [
    "df_spurious_split_train"
   ]
  },
  {
   "cell_type": "code",
   "execution_count": 236,
   "id": "51bde5a8-2b20-425e-9305-e338e5923dd1",
   "metadata": {},
   "outputs": [
    {
     "name": "stdout",
     "output_type": "stream",
     "text": [
      "Creating spurious group partitioning for: train\n",
      "Partitioning group: right_ref\n",
      "Partitioning group: left_nref\n",
      "Partitioning group: left_ref\n",
      "Partitioning group: right_nref\n"
     ]
    }
   ],
   "source": [
    "# Train\n",
    "df_spurious_train = create_spurious_partition(df_balanced_train, df_spurious_split_train, partition='train')"
   ]
  },
  {
   "cell_type": "code",
   "execution_count": 239,
   "id": "bb43d593-76c6-4193-b454-6908500989e2",
   "metadata": {},
   "outputs": [
    {
     "name": "stdout",
     "output_type": "stream",
     "text": [
      "Creating spurious group partitioning for: val\n",
      "Partitioning group: right_ref\n",
      "Partitioning group: left_nref\n",
      "Partitioning group: left_ref\n",
      "Partitioning group: right_nref\n"
     ]
    }
   ],
   "source": [
    "# Validation\n",
    "df_spurious_val = create_spurious_partition(df_balanced_val, df_spurious_split_val, partition='val')"
   ]
  },
  {
   "cell_type": "code",
   "execution_count": 242,
   "id": "6da3f95f-3bfa-43d9-8b88-e243c8f46d3c",
   "metadata": {},
   "outputs": [],
   "source": [
    "df_img_info_binary_spurious = pd.concat([df_spurious_train, df_spurious_val, df_balanced_test], axis=0)"
   ]
  },
  {
   "cell_type": "code",
   "execution_count": 247,
   "id": "6f594369-91b6-495c-9bd5-b6df4ae04b9f",
   "metadata": {},
   "outputs": [
    {
     "data": {
      "text/plain": [
       "train    14882\n",
       "test      3332\n",
       "val       1657\n",
       "Name: split, dtype: int64"
      ]
     },
     "execution_count": 247,
     "metadata": {},
     "output_type": "execute_result"
    }
   ],
   "source": [
    "df_img_info_binary_spurious['split'].value_counts()"
   ]
  },
  {
   "cell_type": "code",
   "execution_count": 246,
   "id": "99e88135-a17e-436d-b7e7-9f38ef402682",
   "metadata": {},
   "outputs": [
    {
     "data": {
      "text/plain": [
       "split  groups    \n",
       "test   left_nref     0.256002\n",
       "       left_ref      0.256303\n",
       "       right_nref    0.243998\n",
       "       right_ref     0.243697\n",
       "train  left_nref     0.450007\n",
       "       left_ref      0.049993\n",
       "       right_nref    0.049993\n",
       "       right_ref     0.450007\n",
       "val    left_nref     0.470127\n",
       "       left_ref      0.048280\n",
       "       right_nref    0.048280\n",
       "       right_ref     0.433313\n",
       "Name: patient_id, dtype: float64"
      ]
     },
     "execution_count": 246,
     "metadata": {},
     "output_type": "execute_result"
    }
   ],
   "source": [
    "df_img_info_binary_spurious.groupby(['split', 'groups'])['patient_id'].count() / df_img_info_binary_spurious.groupby('split')['patient_id'].count()"
   ]
  },
  {
   "cell_type": "code",
   "execution_count": 248,
   "id": "e3de00a4-09ab-4b84-bb98-a87f2eadd41e",
   "metadata": {},
   "outputs": [],
   "source": [
    "df_img_info_binary_spurious.to_csv(os.path.join(IMG_FOLDER, 'metadata_binary_spurious.csv'), index=False)"
   ]
  },
  {
   "cell_type": "markdown",
   "id": "5a7e4391-dd51-407b-b3e1-49a40efb76fb",
   "metadata": {},
   "source": [
    "<br>"
   ]
  }
 ],
 "metadata": {
  "kernelspec": {
   "display_name": "ViT Robust (vit-robust)",
   "language": "python",
   "name": "vit-robust"
  },
  "language_info": {
   "codemirror_mode": {
    "name": "ipython",
    "version": 3
   },
   "file_extension": ".py",
   "mimetype": "text/x-python",
   "name": "python",
   "nbconvert_exporter": "python",
   "pygments_lexer": "ipython3",
   "version": "3.9.13"
  }
 },
 "nbformat": 4,
 "nbformat_minor": 5
}
